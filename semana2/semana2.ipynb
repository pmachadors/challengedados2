{
  "nbformat": 4,
  "nbformat_minor": 0,
  "metadata": {
    "colab": {
      "provenance": []
    },
    "kernelspec": {
      "name": "python3",
      "display_name": "Python 3"
    },
    "language_info": {
      "name": "python"
    }
  },
  "cells": [
    {
      "cell_type": "code",
      "execution_count": 43,
      "metadata": {
        "id": "H6RB1UFojz24",
        "colab": {
          "base_uri": "https://localhost:8080/"
        },
        "outputId": "29a9184e-00c6-4aca-85b0-a620c639dedf"
      },
      "outputs": [
        {
          "output_type": "stream",
          "name": "stdout",
          "text": [
            "Looking in indexes: https://pypi.org/simple, https://us-python.pkg.dev/colab-wheels/public/simple/\n",
            "Requirement already satisfied: pyspark in /usr/local/lib/python3.8/dist-packages (3.3.1)\n",
            "Requirement already satisfied: py4j==0.10.9.5 in /usr/local/lib/python3.8/dist-packages (from pyspark) (0.10.9.5)\n"
          ]
        }
      ],
      "source": [
        "!pip install pyspark\n"
      ]
    },
    {
      "cell_type": "markdown",
      "source": [
        "# Importando dados e criando sessão"
      ],
      "metadata": {
        "id": "sYB_fQX_kLLj"
      }
    },
    {
      "cell_type": "code",
      "source": [
        "from pyspark.sql import SparkSession\n",
        "from pyspark.sql import functions as f\n",
        "from pyspark.sql.types import *\n",
        "\n",
        "spark = SparkSession.builder.appName('semana2').getOrCreate()\n",
        "\n",
        "df = spark.read.parquet('part-00000-00341ba7-0a7c-4fef-a81e-1066725a64b1-c000.snappy.parquet')"
      ],
      "metadata": {
        "id": "PjdcuSf1j9ja"
      },
      "execution_count": 44,
      "outputs": []
    },
    {
      "cell_type": "markdown",
      "source": [
        "# seleção de features"
      ],
      "metadata": {
        "id": "becrjlwdkXBw"
      }
    },
    {
      "cell_type": "code",
      "source": [
        "df_parquet = df.drop('area_total','tipo_anuncio','tipo_uso','tipo','tipo_unidade')\n",
        "df_parquet.show(5,truncate=False)"
      ],
      "metadata": {
        "colab": {
          "base_uri": "https://localhost:8080/"
        },
        "id": "R-zgEpy1kY9g",
        "outputId": "3cbd6334-2c49-49a1-b105-02b909effd89"
      },
      "execution_count": 46,
      "outputs": [
        {
          "output_type": "stream",
          "name": "stdout",
          "text": [
            "+------------------------------------+-----+---------+---------+-------------------------------------------------------------------------------------------------------------------------------+-------+------+----+------------+------------+----------+----+------+\n",
            "|id                                  |andar|area_util|banheiros|caracteristicas                                                                                                                |quartos|suites|vaga|bairro      |zona        |condominio|iptu|valor |\n",
            "+------------------------------------+-----+---------+---------+-------------------------------------------------------------------------------------------------------------------------------+-------+------+----+------------+------------+----------+----+------+\n",
            "|03a386b6-7ab8-4eff-891d-f8a16efc1989|0    |43       |1        |[Churrasqueira, Academia, Playground, Salão de festas, Condomínio fechado, Portão eletrônico, Portaria 24h, Animais permitidos]|2      |null  |1   |Realengo    |Zona Oeste  |285       |null|22999 |\n",
            "|1fe78d41-b8e0-4d21-a1a8-72cb7863f441|0    |44       |1        |[]                                                                                                                             |2      |0     |0   |Irajá       |Zona Norte  |170       |0   |110000|\n",
            "|1fa1c1e5-e98c-433f-9675-1b43d7d6da01|4    |55       |1        |[]                                                                                                                             |2      |0     |1   |Cosmos      |Zona Oeste  |null      |null|115000|\n",
            "|a6ab01ae-3d40-40e7-bb6a-f2334e0abbe0|2    |55       |1        |[]                                                                                                                             |2      |0     |0   |Tomás Coelho|Zona Norte  |null      |null|115000|\n",
            "|1d8ff7a2-16bd-4e3f-a92e-1b85f923ebb0|0    |50       |1        |[]                                                                                                                             |1      |null  |0   |Centro      |Zona Central|1300      |2679|125000|\n",
            "+------------------------------------+-----+---------+---------+-------------------------------------------------------------------------------------------------------------------------------+-------+------+----+------------+------------+----------+----+------+\n",
            "only showing top 5 rows\n",
            "\n"
          ]
        }
      ]
    },
    {
      "cell_type": "markdown",
      "source": [],
      "metadata": {
        "id": "mtL8-u_wCmU1"
      }
    },
    {
      "cell_type": "markdown",
      "source": [],
      "metadata": {
        "id": "TdniiMjGCmau"
      }
    },
    {
      "cell_type": "markdown",
      "source": [
        "# Convertendo tipo de dados"
      ],
      "metadata": {
        "id": "gJtIQ707k-K0"
      }
    },
    {
      "cell_type": "code",
      "source": [
        "lista_colunas = ['andar','banheiros', 'suites', 'quartos', 'vaga', 'area_util','condominio','iptu','valor']\n",
        "df_parquet.printSchema()\n",
        "\n",
        "for coluna in lista_colunas:\n",
        "  df_parquet = df_parquet.withColumn(coluna,df_parquet[coluna].cast(IntegerType()))\n",
        "                        \n",
        "df_parquet.printSchema()"
      ],
      "metadata": {
        "colab": {
          "base_uri": "https://localhost:8080/"
        },
        "id": "Jw6SSoXgk_sY",
        "outputId": "861e9774-8054-41d0-90d3-e86a7c736e17"
      },
      "execution_count": 47,
      "outputs": [
        {
          "output_type": "stream",
          "name": "stdout",
          "text": [
            "root\n",
            " |-- id: string (nullable = true)\n",
            " |-- andar: long (nullable = true)\n",
            " |-- area_util: string (nullable = true)\n",
            " |-- banheiros: long (nullable = true)\n",
            " |-- caracteristicas: array (nullable = true)\n",
            " |    |-- element: string (containsNull = true)\n",
            " |-- quartos: long (nullable = true)\n",
            " |-- suites: long (nullable = true)\n",
            " |-- vaga: long (nullable = true)\n",
            " |-- bairro: string (nullable = true)\n",
            " |-- zona: string (nullable = true)\n",
            " |-- condominio: string (nullable = true)\n",
            " |-- iptu: string (nullable = true)\n",
            " |-- valor: string (nullable = true)\n",
            "\n",
            "root\n",
            " |-- id: string (nullable = true)\n",
            " |-- andar: integer (nullable = true)\n",
            " |-- area_util: integer (nullable = true)\n",
            " |-- banheiros: integer (nullable = true)\n",
            " |-- caracteristicas: array (nullable = true)\n",
            " |    |-- element: string (containsNull = true)\n",
            " |-- quartos: integer (nullable = true)\n",
            " |-- suites: integer (nullable = true)\n",
            " |-- vaga: integer (nullable = true)\n",
            " |-- bairro: string (nullable = true)\n",
            " |-- zona: string (nullable = true)\n",
            " |-- condominio: integer (nullable = true)\n",
            " |-- iptu: integer (nullable = true)\n",
            " |-- valor: integer (nullable = true)\n",
            "\n"
          ]
        }
      ]
    },
    {
      "cell_type": "markdown",
      "source": [
        "# Transformando lista vazia em nulo na coluna caracteristicas\n",
        "\n"
      ],
      "metadata": {
        "id": "ywDHAnYMlWVH"
      }
    },
    {
      "cell_type": "code",
      "source": [
        "df_caracteristicas = df_parquet.withColumn('caracteristicas',f.when(f.size(f.col('caracteristicas')) == 0, f.lit(None)).otherwise(f.col('caracteristicas')))\n",
        "df_caracteristicas.select('caracteristicas').show()"
      ],
      "metadata": {
        "colab": {
          "base_uri": "https://localhost:8080/"
        },
        "id": "A3wtcHMglW4B",
        "outputId": "919e0a3d-ecf7-4208-b347-cd345d6e7801"
      },
      "execution_count": 48,
      "outputs": [
        {
          "output_type": "stream",
          "name": "stdout",
          "text": [
            "+--------------------+\n",
            "|     caracteristicas|\n",
            "+--------------------+\n",
            "|[Churrasqueira, A...|\n",
            "|                null|\n",
            "|                null|\n",
            "|                null|\n",
            "|                null|\n",
            "|[Condomínio fecha...|\n",
            "|[Churrasqueira, C...|\n",
            "|[Churrasqueira, P...|\n",
            "|[Churrasqueira, E...|\n",
            "|   [Salão de festas]|\n",
            "|[Condomínio fecha...|\n",
            "|[Playground, Chur...|\n",
            "|                null|\n",
            "|[Condomínio fecha...|\n",
            "|[Academia, Churra...|\n",
            "|[Academia, Condom...|\n",
            "|[Academia, Condom...|\n",
            "|                null|\n",
            "|[Salão de festas,...|\n",
            "|[Animais permitidos]|\n",
            "+--------------------+\n",
            "only showing top 20 rows\n",
            "\n"
          ]
        }
      ]
    },
    {
      "cell_type": "markdown",
      "source": [
        "# Preenchendo com 0 valores inteiros nulos"
      ],
      "metadata": {
        "id": "k8xCvcimltcf"
      }
    },
    {
      "cell_type": "code",
      "source": [
        "df_caracteristicas_ = df_caracteristicas.fillna(value=0,subset=['banheiros','quartos','suites','vaga','condominio','iptu'])\n",
        "df_caracteristicas_.show()"
      ],
      "metadata": {
        "colab": {
          "base_uri": "https://localhost:8080/"
        },
        "id": "qcWsXLQUluGE",
        "outputId": "101a50cd-21a0-4675-885a-2817c51b7a7a"
      },
      "execution_count": 49,
      "outputs": [
        {
          "output_type": "stream",
          "name": "stdout",
          "text": [
            "+--------------------+-----+---------+---------+--------------------+-------+------+----+--------------------+------------+----------+----+------+\n",
            "|                  id|andar|area_util|banheiros|     caracteristicas|quartos|suites|vaga|              bairro|        zona|condominio|iptu| valor|\n",
            "+--------------------+-----+---------+---------+--------------------+-------+------+----+--------------------+------------+----------+----+------+\n",
            "|03a386b6-7ab8-4ef...|    0|       43|        1|[Churrasqueira, A...|      2|     0|   1|            Realengo|  Zona Oeste|       285|   0| 22999|\n",
            "|1fe78d41-b8e0-4d2...|    0|       44|        1|                null|      2|     0|   0|               Irajá|  Zona Norte|       170|   0|110000|\n",
            "|1fa1c1e5-e98c-433...|    4|       55|        1|                null|      2|     0|   1|              Cosmos|  Zona Oeste|         0|   0|115000|\n",
            "|a6ab01ae-3d40-40e...|    2|       55|        1|                null|      2|     0|   0|        Tomás Coelho|  Zona Norte|         0|   0|115000|\n",
            "|1d8ff7a2-16bd-4e3...|    0|       50|        1|                null|      1|     0|   0|              Centro|Zona Central|      1300|2679|125000|\n",
            "|40a2cbde-946b-42d...|    2|       47|        1|[Condomínio fecha...|      2|     0|   1|        Campo Grande|  Zona Oeste|       380|   0|138000|\n",
            "|be269ddf-a4a3-4a7...|    0|       45|        1|[Churrasqueira, C...|      2|     0|   1|        Campo Grande|  Zona Oeste|       356|   0|140000|\n",
            "|4b7e3d59-34fd-4ba...|    3|       48|        1|[Churrasqueira, P...|      2|     0|   1|        Campo Grande|  Zona Oeste|         0|   0|150000|\n",
            "|a1a0c2ac-4fa8-4b0...|    9|       55|        1|[Churrasqueira, E...|      2|     0|   1|Freguesia (Jacare...|  Zona Oeste|       780| 660|160000|\n",
            "|390d2b88-e06d-47e...|    0|       70|        2|   [Salão de festas]|      2|     0|   1|          Praça Seca|  Zona Oeste|    420000|   0|159000|\n",
            "|07bb07c1-21cc-4da...|    2|       48|        1|[Condomínio fecha...|      1|     0|   0|             Piedade|  Zona Norte|        10|  10|170000|\n",
            "|7d3a1bae-988c-44b...|    5|       40|        1|[Playground, Chur...|      2|     0|   1|        Braz de Pina|  Zona Norte|       150| 120|189000|\n",
            "|47af17f0-1c81-474...|    0|       65|        1|                null|      2|     0|   1|            Campinho|  Zona Oeste|       432|   0|185000|\n",
            "|a9bd1575-e9f2-43d...|    2|       50|        1|[Condomínio fecha...|      1|     0|   1|           Madureira|  Zona Norte|       650|   1|185000|\n",
            "|cfca7253-3d02-4cd...|    5|       45|        1|[Academia, Churra...|      2|     1|   0|             Taquara|  Zona Oeste|       150|  40|199000|\n",
            "|b571ae97-e3d8-4fb...|    0|       48|        1|[Academia, Condom...|      2|     0|   0|          Bonsucesso|  Zona Norte|         0|   0|205933|\n",
            "|eb5fdc65-acae-45f...|    0|       44|        1|[Academia, Condom...|      2|     0|   0|          Bonsucesso|  Zona Norte|         0|   0|206000|\n",
            "|77cd0388-e3ff-40c...|    2|       64|        1|                null|      2|     0|   0|      Jardim América|  Zona Norte|         0|   0|220000|\n",
            "|74a91f07-7387-4a8...|    0|       55|        2|[Salão de festas,...|      1|     0|   1|        Engenho Novo|  Zona Norte|       600| 652|219130|\n",
            "|6aab1165-508d-455...|    3|       60|        1|[Animais permitidos]|      3|     0|   1|           Cascadura|  Zona Norte|        98|   1|230000|\n",
            "+--------------------+-----+---------+---------+--------------------+-------+------+----+--------------------+------------+----------+----+------+\n",
            "only showing top 20 rows\n",
            "\n"
          ]
        }
      ]
    },
    {
      "cell_type": "markdown",
      "source": [
        "# Dropando linhas que contenham valores nulos nas colunas "
      ],
      "metadata": {
        "id": "HoGihDZZl3MS"
      }
    },
    {
      "cell_type": "code",
      "source": [
        "df_drop = df_caracteristicas_.na.drop(subset=['id','bairro','zona','zona'])\n",
        "df_drop.show()"
      ],
      "metadata": {
        "colab": {
          "base_uri": "https://localhost:8080/"
        },
        "id": "suCIPp0Al4Bn",
        "outputId": "453820c5-134c-4114-b12b-c8c1aa9441be"
      },
      "execution_count": 50,
      "outputs": [
        {
          "output_type": "stream",
          "name": "stdout",
          "text": [
            "+--------------------+-----+---------+---------+--------------------+-------+------+----+--------------------+------------+----------+----+------+\n",
            "|                  id|andar|area_util|banheiros|     caracteristicas|quartos|suites|vaga|              bairro|        zona|condominio|iptu| valor|\n",
            "+--------------------+-----+---------+---------+--------------------+-------+------+----+--------------------+------------+----------+----+------+\n",
            "|03a386b6-7ab8-4ef...|    0|       43|        1|[Churrasqueira, A...|      2|     0|   1|            Realengo|  Zona Oeste|       285|   0| 22999|\n",
            "|1fe78d41-b8e0-4d2...|    0|       44|        1|                null|      2|     0|   0|               Irajá|  Zona Norte|       170|   0|110000|\n",
            "|1fa1c1e5-e98c-433...|    4|       55|        1|                null|      2|     0|   1|              Cosmos|  Zona Oeste|         0|   0|115000|\n",
            "|a6ab01ae-3d40-40e...|    2|       55|        1|                null|      2|     0|   0|        Tomás Coelho|  Zona Norte|         0|   0|115000|\n",
            "|1d8ff7a2-16bd-4e3...|    0|       50|        1|                null|      1|     0|   0|              Centro|Zona Central|      1300|2679|125000|\n",
            "|40a2cbde-946b-42d...|    2|       47|        1|[Condomínio fecha...|      2|     0|   1|        Campo Grande|  Zona Oeste|       380|   0|138000|\n",
            "|be269ddf-a4a3-4a7...|    0|       45|        1|[Churrasqueira, C...|      2|     0|   1|        Campo Grande|  Zona Oeste|       356|   0|140000|\n",
            "|4b7e3d59-34fd-4ba...|    3|       48|        1|[Churrasqueira, P...|      2|     0|   1|        Campo Grande|  Zona Oeste|         0|   0|150000|\n",
            "|a1a0c2ac-4fa8-4b0...|    9|       55|        1|[Churrasqueira, E...|      2|     0|   1|Freguesia (Jacare...|  Zona Oeste|       780| 660|160000|\n",
            "|390d2b88-e06d-47e...|    0|       70|        2|   [Salão de festas]|      2|     0|   1|          Praça Seca|  Zona Oeste|    420000|   0|159000|\n",
            "|07bb07c1-21cc-4da...|    2|       48|        1|[Condomínio fecha...|      1|     0|   0|             Piedade|  Zona Norte|        10|  10|170000|\n",
            "|7d3a1bae-988c-44b...|    5|       40|        1|[Playground, Chur...|      2|     0|   1|        Braz de Pina|  Zona Norte|       150| 120|189000|\n",
            "|47af17f0-1c81-474...|    0|       65|        1|                null|      2|     0|   1|            Campinho|  Zona Oeste|       432|   0|185000|\n",
            "|a9bd1575-e9f2-43d...|    2|       50|        1|[Condomínio fecha...|      1|     0|   1|           Madureira|  Zona Norte|       650|   1|185000|\n",
            "|cfca7253-3d02-4cd...|    5|       45|        1|[Academia, Churra...|      2|     1|   0|             Taquara|  Zona Oeste|       150|  40|199000|\n",
            "|b571ae97-e3d8-4fb...|    0|       48|        1|[Academia, Condom...|      2|     0|   0|          Bonsucesso|  Zona Norte|         0|   0|205933|\n",
            "|eb5fdc65-acae-45f...|    0|       44|        1|[Academia, Condom...|      2|     0|   0|          Bonsucesso|  Zona Norte|         0|   0|206000|\n",
            "|77cd0388-e3ff-40c...|    2|       64|        1|                null|      2|     0|   0|      Jardim América|  Zona Norte|         0|   0|220000|\n",
            "|74a91f07-7387-4a8...|    0|       55|        2|[Salão de festas,...|      1|     0|   1|        Engenho Novo|  Zona Norte|       600| 652|219130|\n",
            "|6aab1165-508d-455...|    3|       60|        1|[Animais permitidos]|      3|     0|   1|           Cascadura|  Zona Norte|        98|   1|230000|\n",
            "+--------------------+-----+---------+---------+--------------------+-------+------+----+--------------------+------------+----------+----+------+\n",
            "only showing top 20 rows\n",
            "\n"
          ]
        }
      ]
    },
    {
      "cell_type": "markdown",
      "source": [
        "# Dropando string vazia no campo zona"
      ],
      "metadata": {
        "id": "Y1z4fsFhmCjp"
      }
    },
    {
      "cell_type": "code",
      "source": [
        "df_drop_ = df_drop.where(f.trim(f.col('zona')) != '')\n",
        "df_drop_.select('zona').groupBy('zona').count().show()"
      ],
      "metadata": {
        "colab": {
          "base_uri": "https://localhost:8080/"
        },
        "id": "IBUO7lPGmDLD",
        "outputId": "cfd8ecaf-64d7-4a28-d499-1fd233a1118d"
      },
      "execution_count": 51,
      "outputs": [
        {
          "output_type": "stream",
          "name": "stdout",
          "text": [
            "+------------+-----+\n",
            "|        zona|count|\n",
            "+------------+-----+\n",
            "|  Zona Norte|11897|\n",
            "|  Zona Oeste|32979|\n",
            "|Zona Central| 1144|\n",
            "|    Zona Sul|20531|\n",
            "+------------+-----+\n",
            "\n"
          ]
        }
      ]
    },
    {
      "cell_type": "markdown",
      "source": [
        "# Dummy Classifier na coluna Zona"
      ],
      "metadata": {
        "id": "B5rI8snemdYF"
      }
    },
    {
      "cell_type": "code",
      "source": [
        "df_dummy_zona = df_drop_\\\n",
        "    .groupBy('id')\\\n",
        "    .pivot('zona')\\\n",
        "    .agg(f.lit(1))\\\n",
        "    .na\\\n",
        "    .fill(0)\n",
        "\n",
        "df_join = df_drop_.join(df_dummy_zona,'id',how='inner')\n",
        "df_join.show()"
      ],
      "metadata": {
        "colab": {
          "base_uri": "https://localhost:8080/"
        },
        "id": "OvESaP4TmfjP",
        "outputId": "78fb2f82-68dc-48e1-a415-d0c4040c2e1d"
      },
      "execution_count": 52,
      "outputs": [
        {
          "output_type": "stream",
          "name": "stdout",
          "text": [
            "+--------------------+-----+---------+---------+--------------------+-------+------+----+--------------------+------------+----------+-----+-------+------------+----------+----------+--------+\n",
            "|                  id|andar|area_util|banheiros|     caracteristicas|quartos|suites|vaga|              bairro|        zona|condominio| iptu|  valor|Zona Central|Zona Norte|Zona Oeste|Zona Sul|\n",
            "+--------------------+-----+---------+---------+--------------------+-------+------+----+--------------------+------------+----------+-----+-------+------------+----------+----------+--------+\n",
            "|4e47e4d4-3326-4eb...|    0|       90|        2|          [Elevador]|      3|     1|   0|          Copacabana|    Zona Sul|       950| 2677| 949020|           0|         0|         0|       1|\n",
            "|02fba6ef-a691-442...|    3|       64|        1|[Academia, Churra...|      2|     2|   1|         Jacarepaguá|  Zona Oeste|       784|   80| 380000|           0|         0|         1|       0|\n",
            "|fc03c1a9-8bbb-41a...|    0|       82|        2|[Churrasqueira, C...|      3|     1|   1|              Tijuca|  Zona Norte|      1515|  133| 580000|           0|         1|         0|       0|\n",
            "|3dd5d200-0a7f-43d...|    0|      170|        3|          [Elevador]|      4|     1|   1|         Cosme Velho|    Zona Sul|      2250| 3000|1450000|           0|         0|         0|       1|\n",
            "|82707939-71bd-40c...|    0|      525|        4|                null|      4|     2|   2|            Flamengo|    Zona Sul|      5000| 2100|5199000|           0|         0|         0|       1|\n",
            "|ece1e671-cb4d-48a...|    0|       50|        1|[Academia, Churra...|      2|     0|   1|              Centro|Zona Central|       320|   80| 330000|           1|         0|         0|       0|\n",
            "|3521e03b-0815-4aa...|    0|      286|        7|[Portão eletrônic...|      7|     3|   4|          Copacabana|    Zona Sul|      2148|15000|4500000|           0|         0|         0|       1|\n",
            "|03a386b6-7ab8-4ef...|    0|       43|        1|[Churrasqueira, A...|      2|     0|   1|            Realengo|  Zona Oeste|       285|    0|  22999|           0|         0|         1|       0|\n",
            "|107507e0-f075-47e...|    0|      122|        1|[Elevador, Churra...|      3|     1|   2|Recreio dos Bande...|  Zona Oeste|       810| 3000| 895000|           0|         0|         1|       0|\n",
            "|e5e00255-6408-4e6...| 1234|      245|        5|[Portão eletrônic...|      4|     2|   3|     Barra da Tijuca|  Zona Oeste|      3800| 7900|2080000|           0|         0|         1|       0|\n",
            "|c7e56e3a-a2b2-48a...|    3|      335|        5|[Elevador, Portão...|      3|     2|   4|     Barra da Tijuca|  Zona Oeste|      2800|13500|3980000|           0|         0|         1|       0|\n",
            "|b37a2a08-d3c6-489...|    0|       72|        3|                null|      2|     1|   2|              Grajaú|  Zona Norte|       770| 1110| 420000|           0|         1|         0|       0|\n",
            "|a4b88c04-2655-414...|    0|      160|        3| [Elevador, Piscina]|      2|     1|   2|Recreio dos Bande...|  Zona Oeste|      1976|  389| 850000|           0|         0|         1|       0|\n",
            "|3e9a8997-8071-4a4...|    0|       85|        2|[Elevador, Academ...|      2|     1|   2|     Barra da Tijuca|  Zona Oeste|       900| 2500| 680000|           0|         0|         1|       0|\n",
            "|efef38d2-12cf-428...|    0|      140|        4|[Churrasqueira, P...|      3|     1|   2|     Barra da Tijuca|  Zona Oeste|      1850| 4000|1950000|           0|         0|         1|       0|\n",
            "|9ab97f8d-0d2a-4a9...|    0|      156|        2|          [Elevador]|      3|     1|   1|          Copacabana|    Zona Sul|      1152|  419|1180000|           0|         0|         0|       1|\n",
            "|6179c8a4-1fd2-4f5...|    0|      356|        8|[Condomínio fecha...|      4|     4|   3|     Barra da Tijuca|  Zona Oeste|      4400|10000|2700000|           0|         0|         1|       0|\n",
            "|4c49bd8a-815f-496...|    0|      180|        3|                null|      4|     1|   1|               Gávea|    Zona Sul|      1841|  600|2248000|           0|         0|         0|       1|\n",
            "|af143cf5-1902-4fb...|    0|       46|        1|[Playground, Salã...|      2|     0|   0|           Pechincha|  Zona Oeste|         0|    0| 276000|           0|         0|         1|       0|\n",
            "|e4031c0d-5b72-493...|   10|       50|        1|[Academia, Churra...|      2|     0|   1|         Jacarepaguá|  Zona Oeste|       300|  150| 300000|           0|         0|         1|       0|\n",
            "+--------------------+-----+---------+---------+--------------------+-------+------+----+--------------------+------------+----------+-----+-------+------------+----------+----------+--------+\n",
            "only showing top 20 rows\n",
            "\n"
          ]
        }
      ]
    },
    {
      "cell_type": "markdown",
      "source": [
        "# Dummy Classifier na coluna Caracteristicas"
      ],
      "metadata": {
        "id": "dakTgzjyoU5T"
      }
    },
    {
      "cell_type": "code",
      "source": [
        "df_join.select(f.explode('caracteristicas')).distinct().show()"
      ],
      "metadata": {
        "id": "thgwVQeUoW-A",
        "colab": {
          "base_uri": "https://localhost:8080/"
        },
        "outputId": "adafdf70-6b8c-433c-9848-0d9eccc139a8"
      },
      "execution_count": 53,
      "outputs": [
        {
          "output_type": "stream",
          "name": "stdout",
          "text": [
            "+------------------+\n",
            "|               col|\n",
            "+------------------+\n",
            "|Condomínio fechado|\n",
            "|        Playground|\n",
            "| Portão eletrônico|\n",
            "|           Piscina|\n",
            "|Animais permitidos|\n",
            "|      Portaria 24h|\n",
            "|          Elevador|\n",
            "|          Academia|\n",
            "|   Salão de festas|\n",
            "|     Churrasqueira|\n",
            "+------------------+\n",
            "\n"
          ]
        }
      ]
    },
    {
      "cell_type": "code",
      "source": [
        "lista_caracteristicas = ['Condomínio fechado','Playground','Portão eletrônico','Piscina','Animais permitidos',\\\n",
        "                         'Portaria 24h','Elevador','Academia','Salão de festas','Churrasqueira']\n",
        "\n",
        "df_join.show(5,truncate=False)\n",
        "\n",
        "for coluna in lista_caracteristicas:\n",
        "  df_join = df_join.withColumn(coluna,f.when(f.array_contains(f.col(\"caracteristicas\"),coluna) == 'true',f.lit(1)).otherwise(0))\n",
        "\n",
        "df_join.show(5,truncate=False)\n",
        "\n"
      ],
      "metadata": {
        "colab": {
          "base_uri": "https://localhost:8080/"
        },
        "id": "CPMUyBQ95iCt",
        "outputId": "f7f703f4-da04-4c3f-b381-6e16c2e4ccd5"
      },
      "execution_count": 54,
      "outputs": [
        {
          "output_type": "stream",
          "name": "stdout",
          "text": [
            "+------------------------------------+-----+---------+---------+--------------------------------------------------------------------------------------------------------------------------------------------------+-------+------+----+-----------+----------+----------+----+-------+------------+----------+----------+--------+\n",
            "|id                                  |andar|area_util|banheiros|caracteristicas                                                                                                                                   |quartos|suites|vaga|bairro     |zona      |condominio|iptu|valor  |Zona Central|Zona Norte|Zona Oeste|Zona Sul|\n",
            "+------------------------------------+-----+---------+---------+--------------------------------------------------------------------------------------------------------------------------------------------------+-------+------+----+-----------+----------+----------+----+-------+------------+----------+----------+--------+\n",
            "|4e47e4d4-3326-4eb5-ab19-7ea68e1e2912|0    |90       |2        |[Elevador]                                                                                                                                        |3      |1     |0   |Copacabana |Zona Sul  |950       |2677|949020 |0           |0         |0         |1       |\n",
            "|02fba6ef-a691-442a-997f-211944057adf|3    |64       |1        |[Academia, Churrasqueira, Piscina, Playground, Salão de festas, Elevador, Condomínio fechado, Portão eletrônico, Portaria 24h, Animais permitidos]|2      |2     |1   |Jacarepaguá|Zona Oeste|784       |80  |380000 |0           |0         |1         |0       |\n",
            "|fc03c1a9-8bbb-41a6-bd4d-43950b77dd60|0    |82       |2        |[Churrasqueira, Condomínio fechado, Elevador, Piscina]                                                                                            |3      |1     |1   |Tijuca     |Zona Norte|1515      |133 |580000 |0           |1         |0         |0       |\n",
            "|3dd5d200-0a7f-43db-ba7c-c26a25189674|0    |170      |3        |[Elevador]                                                                                                                                        |4      |1     |1   |Cosme Velho|Zona Sul  |2250      |3000|1450000|0           |0         |0         |1       |\n",
            "|82707939-71bd-40c6-896c-6944e9848ccb|0    |525      |4        |null                                                                                                                                              |4      |2     |2   |Flamengo   |Zona Sul  |5000      |2100|5199000|0           |0         |0         |1       |\n",
            "+------------------------------------+-----+---------+---------+--------------------------------------------------------------------------------------------------------------------------------------------------+-------+------+----+-----------+----------+----------+----+-------+------------+----------+----------+--------+\n",
            "only showing top 5 rows\n",
            "\n",
            "+------------------------------------+-----+---------+---------+--------------------------------------------------------------------------------------------------------------------------------------------------+-------+------+----+-----------+----------+----------+----+-------+------------+----------+----------+--------+------------------+----------+-----------------+-------+------------------+------------+--------+--------+---------------+-------------+\n",
            "|id                                  |andar|area_util|banheiros|caracteristicas                                                                                                                                   |quartos|suites|vaga|bairro     |zona      |condominio|iptu|valor  |Zona Central|Zona Norte|Zona Oeste|Zona Sul|Condomínio fechado|Playground|Portão eletrônico|Piscina|Animais permitidos|Portaria 24h|Elevador|Academia|Salão de festas|Churrasqueira|\n",
            "+------------------------------------+-----+---------+---------+--------------------------------------------------------------------------------------------------------------------------------------------------+-------+------+----+-----------+----------+----------+----+-------+------------+----------+----------+--------+------------------+----------+-----------------+-------+------------------+------------+--------+--------+---------------+-------------+\n",
            "|4e47e4d4-3326-4eb5-ab19-7ea68e1e2912|0    |90       |2        |[Elevador]                                                                                                                                        |3      |1     |0   |Copacabana |Zona Sul  |950       |2677|949020 |0           |0         |0         |1       |0                 |0         |0                |0      |0                 |0           |1       |0       |0              |0            |\n",
            "|02fba6ef-a691-442a-997f-211944057adf|3    |64       |1        |[Academia, Churrasqueira, Piscina, Playground, Salão de festas, Elevador, Condomínio fechado, Portão eletrônico, Portaria 24h, Animais permitidos]|2      |2     |1   |Jacarepaguá|Zona Oeste|784       |80  |380000 |0           |0         |1         |0       |1                 |1         |1                |1      |1                 |1           |1       |1       |1              |1            |\n",
            "|fc03c1a9-8bbb-41a6-bd4d-43950b77dd60|0    |82       |2        |[Churrasqueira, Condomínio fechado, Elevador, Piscina]                                                                                            |3      |1     |1   |Tijuca     |Zona Norte|1515      |133 |580000 |0           |1         |0         |0       |1                 |0         |0                |1      |0                 |0           |1       |0       |0              |1            |\n",
            "|3dd5d200-0a7f-43db-ba7c-c26a25189674|0    |170      |3        |[Elevador]                                                                                                                                        |4      |1     |1   |Cosme Velho|Zona Sul  |2250      |3000|1450000|0           |0         |0         |1       |0                 |0         |0                |0      |0                 |0           |1       |0       |0              |0            |\n",
            "|82707939-71bd-40c6-896c-6944e9848ccb|0    |525      |4        |null                                                                                                                                              |4      |2     |2   |Flamengo   |Zona Sul  |5000      |2100|5199000|0           |0         |0         |1       |0                 |0         |0                |0      |0                 |0           |0       |0       |0              |0            |\n",
            "+------------------------------------+-----+---------+---------+--------------------------------------------------------------------------------------------------------------------------------------------------+-------+------+----+-----------+----------+----------+----+-------+------------+----------+----------+--------+------------------+----------+-----------------+-------+------------------+------------+--------+--------+---------------+-------------+\n",
            "only showing top 5 rows\n",
            "\n"
          ]
        }
      ]
    },
    {
      "cell_type": "markdown",
      "source": [
        "# Dropando ultimas colunas"
      ],
      "metadata": {
        "id": "XN-vakcX7uLK"
      }
    },
    {
      "cell_type": "code",
      "source": [
        "df_final = df_join.drop('caracteristicas','bairro','zona')\n",
        "df_final.show(5, truncate=False)"
      ],
      "metadata": {
        "colab": {
          "base_uri": "https://localhost:8080/"
        },
        "id": "HhINe0yx7wbj",
        "outputId": "1fd49cc1-c7c4-4406-c43a-d3e83c35de25"
      },
      "execution_count": 55,
      "outputs": [
        {
          "output_type": "stream",
          "name": "stdout",
          "text": [
            "+------------------------------------+-----+---------+---------+-------+------+----+----------+----+-------+------------+----------+----------+--------+------------------+----------+-----------------+-------+------------------+------------+--------+--------+---------------+-------------+\n",
            "|id                                  |andar|area_util|banheiros|quartos|suites|vaga|condominio|iptu|valor  |Zona Central|Zona Norte|Zona Oeste|Zona Sul|Condomínio fechado|Playground|Portão eletrônico|Piscina|Animais permitidos|Portaria 24h|Elevador|Academia|Salão de festas|Churrasqueira|\n",
            "+------------------------------------+-----+---------+---------+-------+------+----+----------+----+-------+------------+----------+----------+--------+------------------+----------+-----------------+-------+------------------+------------+--------+--------+---------------+-------------+\n",
            "|4e47e4d4-3326-4eb5-ab19-7ea68e1e2912|0    |90       |2        |3      |1     |0   |950       |2677|949020 |0           |0         |0         |1       |0                 |0         |0                |0      |0                 |0           |1       |0       |0              |0            |\n",
            "|02fba6ef-a691-442a-997f-211944057adf|3    |64       |1        |2      |2     |1   |784       |80  |380000 |0           |0         |1         |0       |1                 |1         |1                |1      |1                 |1           |1       |1       |1              |1            |\n",
            "|fc03c1a9-8bbb-41a6-bd4d-43950b77dd60|0    |82       |2        |3      |1     |1   |1515      |133 |580000 |0           |1         |0         |0       |1                 |0         |0                |1      |0                 |0           |1       |0       |0              |1            |\n",
            "|3dd5d200-0a7f-43db-ba7c-c26a25189674|0    |170      |3        |4      |1     |1   |2250      |3000|1450000|0           |0         |0         |1       |0                 |0         |0                |0      |0                 |0           |1       |0       |0              |0            |\n",
            "|82707939-71bd-40c6-896c-6944e9848ccb|0    |525      |4        |4      |2     |2   |5000      |2100|5199000|0           |0         |0         |1       |0                 |0         |0                |0      |0                 |0           |0       |0       |0              |0            |\n",
            "+------------------------------------+-----+---------+---------+-------+------+----+----------+----+-------+------------+----------+----------+--------+------------------+----------+-----------------+-------+------------------+------------+--------+--------+---------------+-------------+\n",
            "only showing top 5 rows\n",
            "\n"
          ]
        }
      ]
    },
    {
      "cell_type": "markdown",
      "source": [
        "# Vetorização dos dados"
      ],
      "metadata": {
        "id": "QNCEoa5pRSFS"
      }
    },
    {
      "cell_type": "code",
      "source": [
        "from pyspark.ml.feature import VectorAssembler\n",
        "\n",
        "x = ['andar',\n",
        "    'area_util',\n",
        "    'banheiros',\n",
        "    'quartos',\n",
        "    'suites',\n",
        "    'vaga',\n",
        "    'condominio',\n",
        "    'iptu',\n",
        "    'Zona Central',\n",
        "    'Zona Norte',\n",
        "    'Zona Oeste',\n",
        "    'Zona Sul',\n",
        "    'Condomínio fechado',\n",
        "    'Playground',\n",
        "    'Portão eletrônico',\n",
        "    'Piscina',\n",
        "    'Animais permitidos',\n",
        "    'Portaria 24h',\n",
        "    'Elevador',\n",
        "    'Academia',\n",
        "    'Salão de festas',\n",
        "    'Churrasqueira']\n",
        "\n",
        "vect_features = VectorAssembler(inputCols = x, outputCol = 'features')\n",
        "imoves_vect = vect_features.transform(df_final)\n",
        "\n",
        "imoves_vect.show(5, truncate=False)\n",
        "\n"
      ],
      "metadata": {
        "colab": {
          "base_uri": "https://localhost:8080/"
        },
        "id": "Nh79-Jt2RULr",
        "outputId": "c655e464-1ed6-4985-cd69-2b99012ab350"
      },
      "execution_count": 56,
      "outputs": [
        {
          "output_type": "stream",
          "name": "stdout",
          "text": [
            "+------------------------------------+-----+---------+---------+-------+------+----+----------+----+-------+------------+----------+----------+--------+------------------+----------+-----------------+-------+------------------+------------+--------+--------+---------------+-------------+---------------------------------------------------------------------------------------------+\n",
            "|id                                  |andar|area_util|banheiros|quartos|suites|vaga|condominio|iptu|valor  |Zona Central|Zona Norte|Zona Oeste|Zona Sul|Condomínio fechado|Playground|Portão eletrônico|Piscina|Animais permitidos|Portaria 24h|Elevador|Academia|Salão de festas|Churrasqueira|features                                                                                     |\n",
            "+------------------------------------+-----+---------+---------+-------+------+----+----------+----+-------+------------+----------+----------+--------+------------------+----------+-----------------+-------+------------------+------------+--------+--------+---------------+-------------+---------------------------------------------------------------------------------------------+\n",
            "|4e47e4d4-3326-4eb5-ab19-7ea68e1e2912|0    |90       |2        |3      |1     |0   |950       |2677|949020 |0           |0         |0         |1       |0                 |0         |0                |0      |0                 |0           |1       |0       |0              |0            |(22,[1,2,3,4,6,7,11,18],[90.0,2.0,3.0,1.0,950.0,2677.0,1.0,1.0])                             |\n",
            "|02fba6ef-a691-442a-997f-211944057adf|3    |64       |1        |2      |2     |1   |784       |80  |380000 |0           |0         |1         |0       |1                 |1         |1                |1      |1                 |1           |1       |1       |1              |1            |[3.0,64.0,1.0,2.0,2.0,1.0,784.0,80.0,0.0,0.0,1.0,0.0,1.0,1.0,1.0,1.0,1.0,1.0,1.0,1.0,1.0,1.0]|\n",
            "|fc03c1a9-8bbb-41a6-bd4d-43950b77dd60|0    |82       |2        |3      |1     |1   |1515      |133 |580000 |0           |1         |0         |0       |1                 |0         |0                |1      |0                 |0           |1       |0       |0              |1            |(22,[1,2,3,4,5,6,7,9,12,15,18,21],[82.0,2.0,3.0,1.0,1.0,1515.0,133.0,1.0,1.0,1.0,1.0,1.0])   |\n",
            "|3dd5d200-0a7f-43db-ba7c-c26a25189674|0    |170      |3        |4      |1     |1   |2250      |3000|1450000|0           |0         |0         |1       |0                 |0         |0                |0      |0                 |0           |1       |0       |0              |0            |(22,[1,2,3,4,5,6,7,11,18],[170.0,3.0,4.0,1.0,1.0,2250.0,3000.0,1.0,1.0])                     |\n",
            "|82707939-71bd-40c6-896c-6944e9848ccb|0    |525      |4        |4      |2     |2   |5000      |2100|5199000|0           |0         |0         |1       |0                 |0         |0                |0      |0                 |0           |0       |0       |0              |0            |(22,[1,2,3,4,5,6,7,11],[525.0,4.0,4.0,2.0,2.0,5000.0,2100.0,1.0])                            |\n",
            "+------------------------------------+-----+---------+---------+-------+------+----+----------+----+-------+------------+----------+----------+--------+------------------+----------+-----------------+-------+------------------+------------+--------+--------+---------------+-------------+---------------------------------------------------------------------------------------------+\n",
            "only showing top 5 rows\n",
            "\n"
          ]
        }
      ]
    },
    {
      "cell_type": "markdown",
      "source": [
        "# Separados dados de treino e teste"
      ],
      "metadata": {
        "id": "cocPnUU5CoQs"
      }
    },
    {
      "cell_type": "code",
      "source": [
        "imoveis_treino, imoveis_teste = imoves_vect.randomSplit([0.7,0.3])"
      ],
      "metadata": {
        "id": "pe2A5BWlCrvt"
      },
      "execution_count": 58,
      "outputs": []
    },
    {
      "cell_type": "markdown",
      "source": [
        "# Criando modelo de Regressão Linear e testando\n",
        "\n"
      ],
      "metadata": {
        "id": "z2s4mw3gDFg0"
      }
    },
    {
      "cell_type": "code",
      "source": [
        "from pyspark.ml.regression import LinearRegression, RandomForestRegressor\n",
        "from pyspark.ml.evaluation import RegressionEvaluator\n",
        "\n",
        "regLinear = LinearRegression(featuresCol='features', labelCol='valor')\n",
        "modelo = regLinear.fit(imoveis_treino)\n",
        "\n",
        "previsao = modelo.transform(imoveis_teste)\n",
        "\n",
        "avaliar = RegressionEvaluator(predictionCol='prediction',labelCol='valor',metricName='rmse')\n",
        "rmse = avaliar.evaluate(previsao)\n",
        "\n",
        "previsao.select('valor',f.round('prediction',0).alias('palpite')).show(5)\n",
        "print(rmse)"
      ],
      "metadata": {
        "colab": {
          "base_uri": "https://localhost:8080/"
        },
        "id": "9lUUQ1OUDLW4",
        "outputId": "fa826780-48ef-4329-c66b-27928262c06b"
      },
      "execution_count": 66,
      "outputs": [
        {
          "output_type": "stream",
          "name": "stdout",
          "text": [
            "+-------+---------+\n",
            "|  valor|  palpite|\n",
            "+-------+---------+\n",
            "|1100000|1367742.0|\n",
            "| 497000| 508412.0|\n",
            "|1750000|1912962.0|\n",
            "|1005000|1741030.0|\n",
            "|1580000|1278373.0|\n",
            "+-------+---------+\n",
            "only showing top 5 rows\n",
            "\n",
            "851553.6240969741\n"
          ]
        }
      ]
    },
    {
      "cell_type": "markdown",
      "source": [
        "# Criando modelo de RandomForestRegressor e testando\n",
        "\n"
      ],
      "metadata": {
        "id": "rZlvPDA8FwzE"
      }
    },
    {
      "cell_type": "code",
      "source": [
        "rdreg = RandomForestRegressor(featuresCol='features', labelCol='valor')\n",
        "modelo = rdreg.fit(imoveis_treino)\n",
        "\n",
        "previsao = modelo.transform(imoveis_teste)\n",
        "\n",
        "avaliar = RegressionEvaluator(predictionCol='prediction',labelCol='valor',metricName='rmse')\n",
        "rmse = avaliar.evaluate(previsao)\n",
        "\n",
        "previsao.select('valor',f.round('prediction',0).alias('palpite')).show(5)\n",
        "print(rmse)"
      ],
      "metadata": {
        "colab": {
          "base_uri": "https://localhost:8080/"
        },
        "id": "_Rng55HXFyzQ",
        "outputId": "0b7d539e-7eba-434a-d998-d1a873a83a27"
      },
      "execution_count": 67,
      "outputs": [
        {
          "output_type": "stream",
          "name": "stdout",
          "text": [
            "+-------+---------+\n",
            "|  valor|  palpite|\n",
            "+-------+---------+\n",
            "|1100000|1548289.0|\n",
            "| 497000| 755751.0|\n",
            "|1750000|2774697.0|\n",
            "|1005000|1109687.0|\n",
            "|1580000|1071195.0|\n",
            "+-------+---------+\n",
            "only showing top 5 rows\n",
            "\n",
            "728533.8975927922\n"
          ]
        }
      ]
    },
    {
      "cell_type": "markdown",
      "source": [],
      "metadata": {
        "id": "jO5YMmMkkKQx"
      }
    }
  ]
}