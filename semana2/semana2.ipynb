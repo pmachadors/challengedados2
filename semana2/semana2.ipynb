{
  "nbformat": 4,
  "nbformat_minor": 0,
  "metadata": {
    "colab": {
      "provenance": []
    },
    "kernelspec": {
      "name": "python3",
      "display_name": "Python 3"
    },
    "language_info": {
      "name": "python"
    }
  },
  "cells": [
    {
      "cell_type": "code",
      "execution_count": 61,
      "metadata": {
        "id": "H6RB1UFojz24",
        "colab": {
          "base_uri": "https://localhost:8080/"
        },
        "outputId": "5a727537-6bce-402e-d9bb-3e14db04e96d"
      },
      "outputs": [
        {
          "output_type": "stream",
          "name": "stdout",
          "text": [
            "Looking in indexes: https://pypi.org/simple, https://us-python.pkg.dev/colab-wheels/public/simple/\n",
            "Requirement already satisfied: pyspark in /usr/local/lib/python3.7/dist-packages (3.3.1)\n",
            "Requirement already satisfied: py4j==0.10.9.5 in /usr/local/lib/python3.7/dist-packages (from pyspark) (0.10.9.5)\n"
          ]
        }
      ],
      "source": [
        "!pip install pyspark\n"
      ]
    },
    {
      "cell_type": "markdown",
      "source": [
        "# Importando dados e criando sessão"
      ],
      "metadata": {
        "id": "sYB_fQX_kLLj"
      }
    },
    {
      "cell_type": "code",
      "source": [
        "from pyspark.sql import SparkSession\n",
        "from pyspark.sql import functions as f\n",
        "from pyspark.sql.types import *\n",
        "\n",
        "spark = SparkSession.builder.appName('semana2').getOrCreate()\n",
        "\n",
        "df = spark.read.parquet('part-00000-00341ba7-0a7c-4fef-a81e-1066725a64b1-c000.snappy.parquet')"
      ],
      "metadata": {
        "id": "PjdcuSf1j9ja"
      },
      "execution_count": 62,
      "outputs": []
    },
    {
      "cell_type": "markdown",
      "source": [
        "# seleção de features"
      ],
      "metadata": {
        "id": "becrjlwdkXBw"
      }
    },
    {
      "cell_type": "code",
      "source": [
        "df_parquet = df.drop('area_total','tipo_anuncio','tipo_uso','tipo','tipo_unidade')\n",
        "df_parquet.show()"
      ],
      "metadata": {
        "colab": {
          "base_uri": "https://localhost:8080/"
        },
        "id": "R-zgEpy1kY9g",
        "outputId": "4152616d-dabe-4ecf-f917-6ca04be2933f"
      },
      "execution_count": 63,
      "outputs": [
        {
          "output_type": "stream",
          "name": "stdout",
          "text": [
            "+--------------------+-----+---------+---------+--------------------+-------+------+----+--------------------+------------+----------+----+------+\n",
            "|                  id|andar|area_util|banheiros|     caracteristicas|quartos|suites|vaga|              bairro|        zona|condominio|iptu| valor|\n",
            "+--------------------+-----+---------+---------+--------------------+-------+------+----+--------------------+------------+----------+----+------+\n",
            "|03a386b6-7ab8-4ef...|    0|       43|        1|[Churrasqueira, A...|      2|  null|   1|            Realengo|  Zona Oeste|       285|null| 22999|\n",
            "|1fe78d41-b8e0-4d2...|    0|       44|        1|                  []|      2|     0|   0|               Irajá|  Zona Norte|       170|   0|110000|\n",
            "|1fa1c1e5-e98c-433...|    4|       55|        1|                  []|      2|     0|   1|              Cosmos|  Zona Oeste|      null|null|115000|\n",
            "|a6ab01ae-3d40-40e...|    2|       55|        1|                  []|      2|     0|   0|        Tomás Coelho|  Zona Norte|      null|null|115000|\n",
            "|1d8ff7a2-16bd-4e3...|    0|       50|        1|                  []|      1|  null|   0|              Centro|Zona Central|      1300|2679|125000|\n",
            "|40a2cbde-946b-42d...|    2|       47|        1|[Condomínio fecha...|      2|     0|   1|        Campo Grande|  Zona Oeste|       380|null|138000|\n",
            "|be269ddf-a4a3-4a7...|    0|       45|        1|[Churrasqueira, C...|      2|     0|   1|        Campo Grande|  Zona Oeste|       356|   0|140000|\n",
            "|4b7e3d59-34fd-4ba...|    3|       48|        1|[Churrasqueira, P...|      2|  null|   1|        Campo Grande|  Zona Oeste|         0|   0|150000|\n",
            "|a1a0c2ac-4fa8-4b0...|    9|       55|        1|[Churrasqueira, E...|      2|  null|   1|Freguesia (Jacare...|  Zona Oeste|       780| 660|160000|\n",
            "|390d2b88-e06d-47e...|    0|       70|        2|   [Salão de festas]|      2|     0|   1|          Praça Seca|  Zona Oeste|    420000|null|159000|\n",
            "|07bb07c1-21cc-4da...|    2|       48|        1|[Condomínio fecha...|      1|     0|   0|             Piedade|  Zona Norte|        10|  10|170000|\n",
            "|7d3a1bae-988c-44b...|    5|       40|        1|[Playground, Chur...|      2|     0|   1|        Braz de Pina|  Zona Norte|       150| 120|189000|\n",
            "|47af17f0-1c81-474...|    0|       65|        1|                  []|      2|     0|   1|            Campinho|  Zona Oeste|       432|null|185000|\n",
            "|a9bd1575-e9f2-43d...|    2|       50|        1|[Condomínio fecha...|      1|     0|   1|           Madureira|  Zona Norte|       650|   1|185000|\n",
            "|cfca7253-3d02-4cd...|    5|       45|        1|[Academia, Churra...|      2|     1|   0|             Taquara|  Zona Oeste|       150|  40|199000|\n",
            "|b571ae97-e3d8-4fb...|    0|       48|        1|[Academia, Condom...|      2|  null|   0|          Bonsucesso|  Zona Norte|         0|   0|205933|\n",
            "|eb5fdc65-acae-45f...|    0|       44|        1|[Academia, Condom...|      2|  null|   0|          Bonsucesso|  Zona Norte|         0|   0|206000|\n",
            "|77cd0388-e3ff-40c...|    2|       64|        1|                  []|      2|     0|   0|      Jardim América|  Zona Norte|         0|   0|220000|\n",
            "|74a91f07-7387-4a8...|    0|       55|        2|[Salão de festas,...|      1|     0|   1|        Engenho Novo|  Zona Norte|       600| 652|219130|\n",
            "|6aab1165-508d-455...|    3|       60|        1|[Animais permitidos]|      3|     0|   1|           Cascadura|  Zona Norte|        98|   1|230000|\n",
            "+--------------------+-----+---------+---------+--------------------+-------+------+----+--------------------+------------+----------+----+------+\n",
            "only showing top 20 rows\n",
            "\n"
          ]
        }
      ]
    },
    {
      "cell_type": "markdown",
      "source": [
        "# Convertendo tipo de dados"
      ],
      "metadata": {
        "id": "gJtIQ707k-K0"
      }
    },
    {
      "cell_type": "code",
      "source": [
        "df_parquet_ = df_parquet.withColumn('andar',df_parquet.andar.cast(IntegerType()))\\\n",
        "                        .withColumn('banheiros',df_parquet.banheiros.cast(IntegerType()))\\\n",
        "                        .withColumn('suites',df_parquet.suites.cast(IntegerType()))\\\n",
        "                        .withColumn('quartos',df_parquet.quartos.cast(IntegerType()))\\\n",
        "                        .withColumn('vaga',df_parquet.vaga.cast(IntegerType()))\\\n",
        "                        .withColumn('area_util',df_parquet.area_util.cast(DoubleType()))\\\n",
        "                        .withColumn('condominio',df_parquet.condominio.cast(DoubleType()))\\\n",
        "                        .withColumn('iptu',df_parquet.iptu.cast(DoubleType()))\\\n",
        "                        .withColumn('valor',df_parquet.valor.cast(DoubleType()))\n",
        "                        \n",
        "df_parquet_.printSchema()"
      ],
      "metadata": {
        "colab": {
          "base_uri": "https://localhost:8080/"
        },
        "id": "Jw6SSoXgk_sY",
        "outputId": "f5a6304c-ccb2-49b1-85cf-7fcfa0269229"
      },
      "execution_count": 64,
      "outputs": [
        {
          "output_type": "stream",
          "name": "stdout",
          "text": [
            "root\n",
            " |-- id: string (nullable = true)\n",
            " |-- andar: integer (nullable = true)\n",
            " |-- area_util: double (nullable = true)\n",
            " |-- banheiros: integer (nullable = true)\n",
            " |-- caracteristicas: array (nullable = true)\n",
            " |    |-- element: string (containsNull = true)\n",
            " |-- quartos: integer (nullable = true)\n",
            " |-- suites: integer (nullable = true)\n",
            " |-- vaga: integer (nullable = true)\n",
            " |-- bairro: string (nullable = true)\n",
            " |-- zona: string (nullable = true)\n",
            " |-- condominio: double (nullable = true)\n",
            " |-- iptu: double (nullable = true)\n",
            " |-- valor: double (nullable = true)\n",
            "\n"
          ]
        }
      ]
    },
    {
      "cell_type": "markdown",
      "source": [
        "# Transformando lista vazia em nulo na coluna caracteristicas\n",
        "\n"
      ],
      "metadata": {
        "id": "ywDHAnYMlWVH"
      }
    },
    {
      "cell_type": "code",
      "source": [
        "df_caracteristicas = df_parquet_.withColumn('caracteristicas',f.when(f.size(f.col('caracteristicas')) == 0, f.lit(None)).otherwise(f.col('caracteristicas')))\n",
        "df_caracteristicas.select('caracteristicas').show()"
      ],
      "metadata": {
        "colab": {
          "base_uri": "https://localhost:8080/"
        },
        "id": "A3wtcHMglW4B",
        "outputId": "c7a2d1ed-e621-4015-abb8-1ea48a2c6a01"
      },
      "execution_count": 65,
      "outputs": [
        {
          "output_type": "stream",
          "name": "stdout",
          "text": [
            "+--------------------+\n",
            "|     caracteristicas|\n",
            "+--------------------+\n",
            "|[Churrasqueira, A...|\n",
            "|                null|\n",
            "|                null|\n",
            "|                null|\n",
            "|                null|\n",
            "|[Condomínio fecha...|\n",
            "|[Churrasqueira, C...|\n",
            "|[Churrasqueira, P...|\n",
            "|[Churrasqueira, E...|\n",
            "|   [Salão de festas]|\n",
            "|[Condomínio fecha...|\n",
            "|[Playground, Chur...|\n",
            "|                null|\n",
            "|[Condomínio fecha...|\n",
            "|[Academia, Churra...|\n",
            "|[Academia, Condom...|\n",
            "|[Academia, Condom...|\n",
            "|                null|\n",
            "|[Salão de festas,...|\n",
            "|[Animais permitidos]|\n",
            "+--------------------+\n",
            "only showing top 20 rows\n",
            "\n"
          ]
        }
      ]
    },
    {
      "cell_type": "markdown",
      "source": [
        "# Preenchendo com 0 valores inteiros nulos"
      ],
      "metadata": {
        "id": "k8xCvcimltcf"
      }
    },
    {
      "cell_type": "code",
      "source": [
        "df_caracteristicas_ = df_caracteristicas.fillna(value=0,subset=['banheiros','quartos','suites','vaga','condominio','iptu'])\n",
        "df_caracteristicas_.show()"
      ],
      "metadata": {
        "colab": {
          "base_uri": "https://localhost:8080/"
        },
        "id": "qcWsXLQUluGE",
        "outputId": "f8cb85a5-89da-4980-afdf-59d45f61875f"
      },
      "execution_count": 66,
      "outputs": [
        {
          "output_type": "stream",
          "name": "stdout",
          "text": [
            "+--------------------+-----+---------+---------+--------------------+-------+------+----+--------------------+------------+----------+------+--------+\n",
            "|                  id|andar|area_util|banheiros|     caracteristicas|quartos|suites|vaga|              bairro|        zona|condominio|  iptu|   valor|\n",
            "+--------------------+-----+---------+---------+--------------------+-------+------+----+--------------------+------------+----------+------+--------+\n",
            "|03a386b6-7ab8-4ef...|    0|     43.0|        1|[Churrasqueira, A...|      2|     0|   1|            Realengo|  Zona Oeste|     285.0|   0.0| 22999.0|\n",
            "|1fe78d41-b8e0-4d2...|    0|     44.0|        1|                null|      2|     0|   0|               Irajá|  Zona Norte|     170.0|   0.0|110000.0|\n",
            "|1fa1c1e5-e98c-433...|    4|     55.0|        1|                null|      2|     0|   1|              Cosmos|  Zona Oeste|       0.0|   0.0|115000.0|\n",
            "|a6ab01ae-3d40-40e...|    2|     55.0|        1|                null|      2|     0|   0|        Tomás Coelho|  Zona Norte|       0.0|   0.0|115000.0|\n",
            "|1d8ff7a2-16bd-4e3...|    0|     50.0|        1|                null|      1|     0|   0|              Centro|Zona Central|    1300.0|2679.0|125000.0|\n",
            "|40a2cbde-946b-42d...|    2|     47.0|        1|[Condomínio fecha...|      2|     0|   1|        Campo Grande|  Zona Oeste|     380.0|   0.0|138000.0|\n",
            "|be269ddf-a4a3-4a7...|    0|     45.0|        1|[Churrasqueira, C...|      2|     0|   1|        Campo Grande|  Zona Oeste|     356.0|   0.0|140000.0|\n",
            "|4b7e3d59-34fd-4ba...|    3|     48.0|        1|[Churrasqueira, P...|      2|     0|   1|        Campo Grande|  Zona Oeste|       0.0|   0.0|150000.0|\n",
            "|a1a0c2ac-4fa8-4b0...|    9|     55.0|        1|[Churrasqueira, E...|      2|     0|   1|Freguesia (Jacare...|  Zona Oeste|     780.0| 660.0|160000.0|\n",
            "|390d2b88-e06d-47e...|    0|     70.0|        2|   [Salão de festas]|      2|     0|   1|          Praça Seca|  Zona Oeste|  420000.0|   0.0|159000.0|\n",
            "|07bb07c1-21cc-4da...|    2|     48.0|        1|[Condomínio fecha...|      1|     0|   0|             Piedade|  Zona Norte|      10.0|  10.0|170000.0|\n",
            "|7d3a1bae-988c-44b...|    5|     40.0|        1|[Playground, Chur...|      2|     0|   1|        Braz de Pina|  Zona Norte|     150.0| 120.0|189000.0|\n",
            "|47af17f0-1c81-474...|    0|     65.0|        1|                null|      2|     0|   1|            Campinho|  Zona Oeste|     432.0|   0.0|185000.0|\n",
            "|a9bd1575-e9f2-43d...|    2|     50.0|        1|[Condomínio fecha...|      1|     0|   1|           Madureira|  Zona Norte|     650.0|   1.0|185000.0|\n",
            "|cfca7253-3d02-4cd...|    5|     45.0|        1|[Academia, Churra...|      2|     1|   0|             Taquara|  Zona Oeste|     150.0|  40.0|199000.0|\n",
            "|b571ae97-e3d8-4fb...|    0|     48.0|        1|[Academia, Condom...|      2|     0|   0|          Bonsucesso|  Zona Norte|       0.0|   0.0|205933.0|\n",
            "|eb5fdc65-acae-45f...|    0|     44.0|        1|[Academia, Condom...|      2|     0|   0|          Bonsucesso|  Zona Norte|       0.0|   0.0|206000.0|\n",
            "|77cd0388-e3ff-40c...|    2|     64.0|        1|                null|      2|     0|   0|      Jardim América|  Zona Norte|       0.0|   0.0|220000.0|\n",
            "|74a91f07-7387-4a8...|    0|     55.0|        2|[Salão de festas,...|      1|     0|   1|        Engenho Novo|  Zona Norte|     600.0| 652.0|219130.0|\n",
            "|6aab1165-508d-455...|    3|     60.0|        1|[Animais permitidos]|      3|     0|   1|           Cascadura|  Zona Norte|      98.0|   1.0|230000.0|\n",
            "+--------------------+-----+---------+---------+--------------------+-------+------+----+--------------------+------------+----------+------+--------+\n",
            "only showing top 20 rows\n",
            "\n"
          ]
        }
      ]
    },
    {
      "cell_type": "markdown",
      "source": [
        "# Dropando linhas que contenham valores nulos nas colunas "
      ],
      "metadata": {
        "id": "HoGihDZZl3MS"
      }
    },
    {
      "cell_type": "code",
      "source": [
        "df_drop = df_caracteristicas_.na.drop(subset=['id','bairro','zona','zona'])\n",
        "df_drop.show()"
      ],
      "metadata": {
        "colab": {
          "base_uri": "https://localhost:8080/"
        },
        "id": "suCIPp0Al4Bn",
        "outputId": "d2639351-fb87-4a8f-b028-4aa8d0322ff9"
      },
      "execution_count": 67,
      "outputs": [
        {
          "output_type": "stream",
          "name": "stdout",
          "text": [
            "+--------------------+-----+---------+---------+--------------------+-------+------+----+--------------------+------------+----------+------+--------+\n",
            "|                  id|andar|area_util|banheiros|     caracteristicas|quartos|suites|vaga|              bairro|        zona|condominio|  iptu|   valor|\n",
            "+--------------------+-----+---------+---------+--------------------+-------+------+----+--------------------+------------+----------+------+--------+\n",
            "|03a386b6-7ab8-4ef...|    0|     43.0|        1|[Churrasqueira, A...|      2|     0|   1|            Realengo|  Zona Oeste|     285.0|   0.0| 22999.0|\n",
            "|1fe78d41-b8e0-4d2...|    0|     44.0|        1|                null|      2|     0|   0|               Irajá|  Zona Norte|     170.0|   0.0|110000.0|\n",
            "|1fa1c1e5-e98c-433...|    4|     55.0|        1|                null|      2|     0|   1|              Cosmos|  Zona Oeste|       0.0|   0.0|115000.0|\n",
            "|a6ab01ae-3d40-40e...|    2|     55.0|        1|                null|      2|     0|   0|        Tomás Coelho|  Zona Norte|       0.0|   0.0|115000.0|\n",
            "|1d8ff7a2-16bd-4e3...|    0|     50.0|        1|                null|      1|     0|   0|              Centro|Zona Central|    1300.0|2679.0|125000.0|\n",
            "|40a2cbde-946b-42d...|    2|     47.0|        1|[Condomínio fecha...|      2|     0|   1|        Campo Grande|  Zona Oeste|     380.0|   0.0|138000.0|\n",
            "|be269ddf-a4a3-4a7...|    0|     45.0|        1|[Churrasqueira, C...|      2|     0|   1|        Campo Grande|  Zona Oeste|     356.0|   0.0|140000.0|\n",
            "|4b7e3d59-34fd-4ba...|    3|     48.0|        1|[Churrasqueira, P...|      2|     0|   1|        Campo Grande|  Zona Oeste|       0.0|   0.0|150000.0|\n",
            "|a1a0c2ac-4fa8-4b0...|    9|     55.0|        1|[Churrasqueira, E...|      2|     0|   1|Freguesia (Jacare...|  Zona Oeste|     780.0| 660.0|160000.0|\n",
            "|390d2b88-e06d-47e...|    0|     70.0|        2|   [Salão de festas]|      2|     0|   1|          Praça Seca|  Zona Oeste|  420000.0|   0.0|159000.0|\n",
            "|07bb07c1-21cc-4da...|    2|     48.0|        1|[Condomínio fecha...|      1|     0|   0|             Piedade|  Zona Norte|      10.0|  10.0|170000.0|\n",
            "|7d3a1bae-988c-44b...|    5|     40.0|        1|[Playground, Chur...|      2|     0|   1|        Braz de Pina|  Zona Norte|     150.0| 120.0|189000.0|\n",
            "|47af17f0-1c81-474...|    0|     65.0|        1|                null|      2|     0|   1|            Campinho|  Zona Oeste|     432.0|   0.0|185000.0|\n",
            "|a9bd1575-e9f2-43d...|    2|     50.0|        1|[Condomínio fecha...|      1|     0|   1|           Madureira|  Zona Norte|     650.0|   1.0|185000.0|\n",
            "|cfca7253-3d02-4cd...|    5|     45.0|        1|[Academia, Churra...|      2|     1|   0|             Taquara|  Zona Oeste|     150.0|  40.0|199000.0|\n",
            "|b571ae97-e3d8-4fb...|    0|     48.0|        1|[Academia, Condom...|      2|     0|   0|          Bonsucesso|  Zona Norte|       0.0|   0.0|205933.0|\n",
            "|eb5fdc65-acae-45f...|    0|     44.0|        1|[Academia, Condom...|      2|     0|   0|          Bonsucesso|  Zona Norte|       0.0|   0.0|206000.0|\n",
            "|77cd0388-e3ff-40c...|    2|     64.0|        1|                null|      2|     0|   0|      Jardim América|  Zona Norte|       0.0|   0.0|220000.0|\n",
            "|74a91f07-7387-4a8...|    0|     55.0|        2|[Salão de festas,...|      1|     0|   1|        Engenho Novo|  Zona Norte|     600.0| 652.0|219130.0|\n",
            "|6aab1165-508d-455...|    3|     60.0|        1|[Animais permitidos]|      3|     0|   1|           Cascadura|  Zona Norte|      98.0|   1.0|230000.0|\n",
            "+--------------------+-----+---------+---------+--------------------+-------+------+----+--------------------+------------+----------+------+--------+\n",
            "only showing top 20 rows\n",
            "\n"
          ]
        }
      ]
    },
    {
      "cell_type": "markdown",
      "source": [
        "# Dropando string vazia no campo zona"
      ],
      "metadata": {
        "id": "Y1z4fsFhmCjp"
      }
    },
    {
      "cell_type": "code",
      "source": [
        "df_drop_ = df_drop.where(f.trim(f.col('zona')) != '')\n",
        "df_drop_.select('zona').groupBy('zona').count().show()"
      ],
      "metadata": {
        "colab": {
          "base_uri": "https://localhost:8080/"
        },
        "id": "IBUO7lPGmDLD",
        "outputId": "fab89aa0-9169-439f-ffc0-82b80e9b3c31"
      },
      "execution_count": 68,
      "outputs": [
        {
          "output_type": "stream",
          "name": "stdout",
          "text": [
            "+------------+-----+\n",
            "|        zona|count|\n",
            "+------------+-----+\n",
            "|  Zona Norte|11897|\n",
            "|  Zona Oeste|32979|\n",
            "|Zona Central| 1144|\n",
            "|    Zona Sul|20531|\n",
            "+------------+-----+\n",
            "\n"
          ]
        }
      ]
    },
    {
      "cell_type": "markdown",
      "source": [
        "# Dummy Classifier na coluna Zona"
      ],
      "metadata": {
        "id": "B5rI8snemdYF"
      }
    },
    {
      "cell_type": "code",
      "source": [
        "df_dummy_zona = df_drop_\\\n",
        "    .groupBy('id')\\\n",
        "    .pivot('zona')\\\n",
        "    .agg(f.lit(1))\\\n",
        "    .na\\\n",
        "    .fill(0)\n",
        "\n",
        "df_join = df_drop_.join(df_dummy_zona,'id',how='inner')\n",
        "df_join.show()"
      ],
      "metadata": {
        "colab": {
          "base_uri": "https://localhost:8080/"
        },
        "id": "OvESaP4TmfjP",
        "outputId": "446696b8-5a75-41a9-d065-605bf75c33a1"
      },
      "execution_count": 69,
      "outputs": [
        {
          "output_type": "stream",
          "name": "stdout",
          "text": [
            "+--------------------+-----+---------+---------+--------------------+-------+------+----+--------------------+------------+----------+-------+---------+------------+----------+----------+--------+\n",
            "|                  id|andar|area_util|banheiros|     caracteristicas|quartos|suites|vaga|              bairro|        zona|condominio|   iptu|    valor|Zona Central|Zona Norte|Zona Oeste|Zona Sul|\n",
            "+--------------------+-----+---------+---------+--------------------+-------+------+----+--------------------+------------+----------+-------+---------+------------+----------+----------+--------+\n",
            "|4e47e4d4-3326-4eb...|    0|     90.0|        2|          [Elevador]|      3|     1|   0|          Copacabana|    Zona Sul|     950.0| 2677.0| 949020.0|           0|         0|         0|       1|\n",
            "|02fba6ef-a691-442...|    3|     64.0|        1|[Academia, Churra...|      2|     2|   1|         Jacarepaguá|  Zona Oeste|     784.0|   80.0| 380000.0|           0|         0|         1|       0|\n",
            "|fc03c1a9-8bbb-41a...|    0|     82.0|        2|[Churrasqueira, C...|      3|     1|   1|              Tijuca|  Zona Norte|    1515.0|  133.0| 580000.0|           0|         1|         0|       0|\n",
            "|3dd5d200-0a7f-43d...|    0|    170.0|        3|          [Elevador]|      4|     1|   1|         Cosme Velho|    Zona Sul|    2250.0| 3000.0|1450000.0|           0|         0|         0|       1|\n",
            "|82707939-71bd-40c...|    0|    525.0|        4|                null|      4|     2|   2|            Flamengo|    Zona Sul|    5000.0| 2100.0|5199000.0|           0|         0|         0|       1|\n",
            "|ece1e671-cb4d-48a...|    0|     50.0|        1|[Academia, Churra...|      2|     0|   1|              Centro|Zona Central|     320.0|   80.0| 330000.0|           1|         0|         0|       0|\n",
            "|3521e03b-0815-4aa...|    0|    286.0|        7|[Portão eletrônic...|      7|     3|   4|          Copacabana|    Zona Sul|    2148.0|15000.0|4500000.0|           0|         0|         0|       1|\n",
            "|03a386b6-7ab8-4ef...|    0|     43.0|        1|[Churrasqueira, A...|      2|     0|   1|            Realengo|  Zona Oeste|     285.0|    0.0|  22999.0|           0|         0|         1|       0|\n",
            "|107507e0-f075-47e...|    0|    122.0|        1|[Elevador, Churra...|      3|     1|   2|Recreio dos Bande...|  Zona Oeste|     810.0| 3000.0| 895000.0|           0|         0|         1|       0|\n",
            "|e5e00255-6408-4e6...| 1234|    245.0|        5|[Portão eletrônic...|      4|     2|   3|     Barra da Tijuca|  Zona Oeste|    3800.0| 7900.0|2080000.0|           0|         0|         1|       0|\n",
            "|c7e56e3a-a2b2-48a...|    3|    335.0|        5|[Elevador, Portão...|      3|     2|   4|     Barra da Tijuca|  Zona Oeste|    2800.0|13500.0|3980000.0|           0|         0|         1|       0|\n",
            "|b37a2a08-d3c6-489...|    0|     72.0|        3|                null|      2|     1|   2|              Grajaú|  Zona Norte|     770.0| 1110.0| 420000.0|           0|         1|         0|       0|\n",
            "|a4b88c04-2655-414...|    0|    160.0|        3| [Elevador, Piscina]|      2|     1|   2|Recreio dos Bande...|  Zona Oeste|    1976.0|  389.0| 850000.0|           0|         0|         1|       0|\n",
            "|3e9a8997-8071-4a4...|    0|     85.0|        2|[Elevador, Academ...|      2|     1|   2|     Barra da Tijuca|  Zona Oeste|     900.0| 2500.0| 680000.0|           0|         0|         1|       0|\n",
            "|efef38d2-12cf-428...|    0|    140.0|        4|[Churrasqueira, P...|      3|     1|   2|     Barra da Tijuca|  Zona Oeste|    1850.0| 4000.0|1950000.0|           0|         0|         1|       0|\n",
            "|9ab97f8d-0d2a-4a9...|    0|    156.0|        2|          [Elevador]|      3|     1|   1|          Copacabana|    Zona Sul|    1152.0|  419.0|1180000.0|           0|         0|         0|       1|\n",
            "|6179c8a4-1fd2-4f5...|    0|    356.0|        8|[Condomínio fecha...|      4|     4|   3|     Barra da Tijuca|  Zona Oeste|    4400.0|10000.0|2700000.0|           0|         0|         1|       0|\n",
            "|4c49bd8a-815f-496...|    0|    180.0|        3|                null|      4|     1|   1|               Gávea|    Zona Sul|    1841.0|  600.0|2248000.0|           0|         0|         0|       1|\n",
            "|af143cf5-1902-4fb...|    0|     46.0|        1|[Playground, Salã...|      2|     0|   0|           Pechincha|  Zona Oeste|       0.0|    0.0| 276000.0|           0|         0|         1|       0|\n",
            "|e4031c0d-5b72-493...|   10|     50.0|        1|[Academia, Churra...|      2|     0|   1|         Jacarepaguá|  Zona Oeste|     300.0|  150.0| 300000.0|           0|         0|         1|       0|\n",
            "+--------------------+-----+---------+---------+--------------------+-------+------+----+--------------------+------------+----------+-------+---------+------------+----------+----------+--------+\n",
            "only showing top 20 rows\n",
            "\n"
          ]
        }
      ]
    },
    {
      "cell_type": "markdown",
      "source": [
        "# Dummy Classifier na coluna Caracteristicas"
      ],
      "metadata": {
        "id": "dakTgzjyoU5T"
      }
    },
    {
      "cell_type": "code",
      "source": [
        "df_join.select(f.explode('caracteristicas')).distinct().show()"
      ],
      "metadata": {
        "id": "thgwVQeUoW-A",
        "colab": {
          "base_uri": "https://localhost:8080/"
        },
        "outputId": "d2231d42-ff5d-472c-f7c2-86fc83480b8d"
      },
      "execution_count": 82,
      "outputs": [
        {
          "output_type": "stream",
          "name": "stdout",
          "text": [
            "+------------------+\n",
            "|               col|\n",
            "+------------------+\n",
            "|Condomínio fechado|\n",
            "|        Playground|\n",
            "| Portão eletrônico|\n",
            "|           Piscina|\n",
            "|Animais permitidos|\n",
            "|      Portaria 24h|\n",
            "|          Elevador|\n",
            "|          Academia|\n",
            "|   Salão de festas|\n",
            "|     Churrasqueira|\n",
            "+------------------+\n",
            "\n"
          ]
        }
      ]
    },
    {
      "cell_type": "code",
      "source": [
        "df_array =  df_join.withColumn(\"condominio_fechado\",f.when(f.array_contains(f.col(\"caracteristicas\"),\"Condomínio fechado\") == 'true',f.lit(1)).otherwise(0))\\\n",
        "                   .withColumn(\"playground\",f.when(f.array_contains(f.col(\"caracteristicas\"),\"Playground\") == 'true',f.lit(1)).otherwise(0))\\\n",
        "                   .withColumn(\"portao_eletronico\",f.when(f.array_contains(f.col(\"caracteristicas\"),\"Portão eletrônico\") == 'true',f.lit(1)).otherwise(0))\\\n",
        "                   .withColumn(\"piscina\",f.when(f.array_contains(f.col(\"caracteristicas\"),\"Piscina\") == 'true',f.lit(1)).otherwise(0))\\\n",
        "                   .withColumn(\"animais_permitidos\",f.when(f.array_contains(f.col(\"caracteristicas\"),\"Animais permitidos\") == 'true',f.lit(1)).otherwise(0))\\\n",
        "                   .withColumn(\"portaria_24h\",f.when(f.array_contains(f.col(\"caracteristicas\"),\"Portaria 24h\") == 'true',f.lit(1)).otherwise(0))\\\n",
        "                   .withColumn(\"elevador\",f.when(f.array_contains(f.col(\"caracteristicas\"),\"Elevador\") == 'true',f.lit(1)).otherwise(0))\\\n",
        "                   .withColumn(\"academia\",f.when(f.array_contains(f.col(\"caracteristicas\"),\"Academia\") == 'true',f.lit(1)).otherwise(0))\\\n",
        "                   .withColumn(\"salao_de_festas\",f.when(f.array_contains(f.col(\"caracteristicas\"),\"Salão de festas\") == 'true',f.lit(1)).otherwise(0))\\\n",
        "                   .withColumn(\"churrasqueira\",f.when(f.array_contains(f.col(\"caracteristicas\"),\"Churrasqueira\") == 'true',f.lit(1)).otherwise(0))\n",
        "df_array.show()"
      ],
      "metadata": {
        "colab": {
          "base_uri": "https://localhost:8080/"
        },
        "id": "CPMUyBQ95iCt",
        "outputId": "97df0040-14a5-4772-f1db-a456e3b2751b"
      },
      "execution_count": 84,
      "outputs": [
        {
          "output_type": "stream",
          "name": "stdout",
          "text": [
            "+--------------------+-----+---------+---------+--------------------+-------+------+----+--------------------+------------+----------+-------+---------+------------+----------+----------+--------+------------------+----------+-----------------+-------+------------------+------------+--------+--------+---------------+-------------+\n",
            "|                  id|andar|area_util|banheiros|     caracteristicas|quartos|suites|vaga|              bairro|        zona|condominio|   iptu|    valor|Zona Central|Zona Norte|Zona Oeste|Zona Sul|condominio_fechado|playground|portao_eletronico|piscina|animais_permitidos|portaria_24h|elevador|academia|salao_de_festas|churrasqueira|\n",
            "+--------------------+-----+---------+---------+--------------------+-------+------+----+--------------------+------------+----------+-------+---------+------------+----------+----------+--------+------------------+----------+-----------------+-------+------------------+------------+--------+--------+---------------+-------------+\n",
            "|4e47e4d4-3326-4eb...|    0|     90.0|        2|          [Elevador]|      3|     1|   0|          Copacabana|    Zona Sul|     950.0| 2677.0| 949020.0|           0|         0|         0|       1|                 0|         0|                0|      0|                 0|           0|       1|       0|              0|            0|\n",
            "|02fba6ef-a691-442...|    3|     64.0|        1|[Academia, Churra...|      2|     2|   1|         Jacarepaguá|  Zona Oeste|     784.0|   80.0| 380000.0|           0|         0|         1|       0|                 1|         1|                1|      1|                 1|           1|       1|       1|              1|            1|\n",
            "|fc03c1a9-8bbb-41a...|    0|     82.0|        2|[Churrasqueira, C...|      3|     1|   1|              Tijuca|  Zona Norte|    1515.0|  133.0| 580000.0|           0|         1|         0|       0|                 1|         0|                0|      1|                 0|           0|       1|       0|              0|            1|\n",
            "|3dd5d200-0a7f-43d...|    0|    170.0|        3|          [Elevador]|      4|     1|   1|         Cosme Velho|    Zona Sul|    2250.0| 3000.0|1450000.0|           0|         0|         0|       1|                 0|         0|                0|      0|                 0|           0|       1|       0|              0|            0|\n",
            "|82707939-71bd-40c...|    0|    525.0|        4|                null|      4|     2|   2|            Flamengo|    Zona Sul|    5000.0| 2100.0|5199000.0|           0|         0|         0|       1|                 0|         0|                0|      0|                 0|           0|       0|       0|              0|            0|\n",
            "|ece1e671-cb4d-48a...|    0|     50.0|        1|[Academia, Churra...|      2|     0|   1|              Centro|Zona Central|     320.0|   80.0| 330000.0|           1|         0|         0|       0|                 1|         1|                1|      1|                 1|           1|       1|       1|              1|            1|\n",
            "|3521e03b-0815-4aa...|    0|    286.0|        7|[Portão eletrônic...|      7|     3|   4|          Copacabana|    Zona Sul|    2148.0|15000.0|4500000.0|           0|         0|         0|       1|                 1|         0|                1|      0|                 0|           1|       0|       0|              0|            0|\n",
            "|03a386b6-7ab8-4ef...|    0|     43.0|        1|[Churrasqueira, A...|      2|     0|   1|            Realengo|  Zona Oeste|     285.0|    0.0|  22999.0|           0|         0|         1|       0|                 1|         1|                1|      0|                 1|           1|       0|       1|              1|            1|\n",
            "|107507e0-f075-47e...|    0|    122.0|        1|[Elevador, Churra...|      3|     1|   2|Recreio dos Bande...|  Zona Oeste|     810.0| 3000.0| 895000.0|           0|         0|         1|       0|                 1|         0|                1|      0|                 1|           0|       1|       0|              0|            1|\n",
            "|e5e00255-6408-4e6...| 1234|    245.0|        5|[Portão eletrônic...|      4|     2|   3|     Barra da Tijuca|  Zona Oeste|    3800.0| 7900.0|2080000.0|           0|         0|         1|       0|                 1|         1|                1|      1|                 1|           1|       1|       1|              1|            1|\n",
            "|c7e56e3a-a2b2-48a...|    3|    335.0|        5|[Elevador, Portão...|      3|     2|   4|     Barra da Tijuca|  Zona Oeste|    2800.0|13500.0|3980000.0|           0|         0|         1|       0|                 0|         0|                1|      0|                 1|           0|       1|       0|              0|            0|\n",
            "|b37a2a08-d3c6-489...|    0|     72.0|        3|                null|      2|     1|   2|              Grajaú|  Zona Norte|     770.0| 1110.0| 420000.0|           0|         1|         0|       0|                 0|         0|                0|      0|                 0|           0|       0|       0|              0|            0|\n",
            "|a4b88c04-2655-414...|    0|    160.0|        3| [Elevador, Piscina]|      2|     1|   2|Recreio dos Bande...|  Zona Oeste|    1976.0|  389.0| 850000.0|           0|         0|         1|       0|                 0|         0|                0|      1|                 0|           0|       1|       0|              0|            0|\n",
            "|3e9a8997-8071-4a4...|    0|     85.0|        2|[Elevador, Academ...|      2|     1|   2|     Barra da Tijuca|  Zona Oeste|     900.0| 2500.0| 680000.0|           0|         0|         1|       0|                 1|         1|                1|      1|                 1|           1|       1|       1|              1|            1|\n",
            "|efef38d2-12cf-428...|    0|    140.0|        4|[Churrasqueira, P...|      3|     1|   2|     Barra da Tijuca|  Zona Oeste|    1850.0| 4000.0|1950000.0|           0|         0|         1|       0|                 0|         1|                0|      1|                 0|           0|       0|       0|              1|            1|\n",
            "|9ab97f8d-0d2a-4a9...|    0|    156.0|        2|          [Elevador]|      3|     1|   1|          Copacabana|    Zona Sul|    1152.0|  419.0|1180000.0|           0|         0|         0|       1|                 0|         0|                0|      0|                 0|           0|       1|       0|              0|            0|\n",
            "|6179c8a4-1fd2-4f5...|    0|    356.0|        8|[Condomínio fecha...|      4|     4|   3|     Barra da Tijuca|  Zona Oeste|    4400.0|10000.0|2700000.0|           0|         0|         1|       0|                 1|         1|                1|      1|                 1|           1|       1|       1|              1|            0|\n",
            "|4c49bd8a-815f-496...|    0|    180.0|        3|                null|      4|     1|   1|               Gávea|    Zona Sul|    1841.0|  600.0|2248000.0|           0|         0|         0|       1|                 0|         0|                0|      0|                 0|           0|       0|       0|              0|            0|\n",
            "|af143cf5-1902-4fb...|    0|     46.0|        1|[Playground, Salã...|      2|     0|   0|           Pechincha|  Zona Oeste|       0.0|    0.0| 276000.0|           0|         0|         1|       0|                 0|         1|                0|      0|                 0|           0|       0|       0|              1|            0|\n",
            "|e4031c0d-5b72-493...|   10|     50.0|        1|[Academia, Churra...|      2|     0|   1|         Jacarepaguá|  Zona Oeste|     300.0|  150.0| 300000.0|           0|         0|         1|       0|                 1|         1|                1|      1|                 1|           1|       1|       1|              1|            1|\n",
            "+--------------------+-----+---------+---------+--------------------+-------+------+----+--------------------+------------+----------+-------+---------+------------+----------+----------+--------+------------------+----------+-----------------+-------+------------------+------------+--------+--------+---------------+-------------+\n",
            "only showing top 20 rows\n",
            "\n"
          ]
        }
      ]
    },
    {
      "cell_type": "markdown",
      "source": [
        "# Dropando ultimas colunas"
      ],
      "metadata": {
        "id": "XN-vakcX7uLK"
      }
    },
    {
      "cell_type": "code",
      "source": [
        "df_final = df_array.drop('caracteristicas','bairro','zona')\n",
        "df_final.show()"
      ],
      "metadata": {
        "colab": {
          "base_uri": "https://localhost:8080/"
        },
        "id": "HhINe0yx7wbj",
        "outputId": "c9290df4-438e-4109-b468-66ec4bb98bd6"
      },
      "execution_count": 85,
      "outputs": [
        {
          "output_type": "stream",
          "name": "stdout",
          "text": [
            "+--------------------+-----+---------+---------+-------+------+----+----------+-------+---------+------------+----------+----------+--------+------------------+----------+-----------------+-------+------------------+------------+--------+--------+---------------+-------------+\n",
            "|                  id|andar|area_util|banheiros|quartos|suites|vaga|condominio|   iptu|    valor|Zona Central|Zona Norte|Zona Oeste|Zona Sul|condominio_fechado|playground|portao_eletronico|piscina|animais_permitidos|portaria_24h|elevador|academia|salao_de_festas|churrasqueira|\n",
            "+--------------------+-----+---------+---------+-------+------+----+----------+-------+---------+------------+----------+----------+--------+------------------+----------+-----------------+-------+------------------+------------+--------+--------+---------------+-------------+\n",
            "|4e47e4d4-3326-4eb...|    0|     90.0|        2|      3|     1|   0|     950.0| 2677.0| 949020.0|           0|         0|         0|       1|                 0|         0|                0|      0|                 0|           0|       1|       0|              0|            0|\n",
            "|02fba6ef-a691-442...|    3|     64.0|        1|      2|     2|   1|     784.0|   80.0| 380000.0|           0|         0|         1|       0|                 1|         1|                1|      1|                 1|           1|       1|       1|              1|            1|\n",
            "|fc03c1a9-8bbb-41a...|    0|     82.0|        2|      3|     1|   1|    1515.0|  133.0| 580000.0|           0|         1|         0|       0|                 1|         0|                0|      1|                 0|           0|       1|       0|              0|            1|\n",
            "|3dd5d200-0a7f-43d...|    0|    170.0|        3|      4|     1|   1|    2250.0| 3000.0|1450000.0|           0|         0|         0|       1|                 0|         0|                0|      0|                 0|           0|       1|       0|              0|            0|\n",
            "|82707939-71bd-40c...|    0|    525.0|        4|      4|     2|   2|    5000.0| 2100.0|5199000.0|           0|         0|         0|       1|                 0|         0|                0|      0|                 0|           0|       0|       0|              0|            0|\n",
            "|ece1e671-cb4d-48a...|    0|     50.0|        1|      2|     0|   1|     320.0|   80.0| 330000.0|           1|         0|         0|       0|                 1|         1|                1|      1|                 1|           1|       1|       1|              1|            1|\n",
            "|3521e03b-0815-4aa...|    0|    286.0|        7|      7|     3|   4|    2148.0|15000.0|4500000.0|           0|         0|         0|       1|                 1|         0|                1|      0|                 0|           1|       0|       0|              0|            0|\n",
            "|03a386b6-7ab8-4ef...|    0|     43.0|        1|      2|     0|   1|     285.0|    0.0|  22999.0|           0|         0|         1|       0|                 1|         1|                1|      0|                 1|           1|       0|       1|              1|            1|\n",
            "|107507e0-f075-47e...|    0|    122.0|        1|      3|     1|   2|     810.0| 3000.0| 895000.0|           0|         0|         1|       0|                 1|         0|                1|      0|                 1|           0|       1|       0|              0|            1|\n",
            "|e5e00255-6408-4e6...| 1234|    245.0|        5|      4|     2|   3|    3800.0| 7900.0|2080000.0|           0|         0|         1|       0|                 1|         1|                1|      1|                 1|           1|       1|       1|              1|            1|\n",
            "|c7e56e3a-a2b2-48a...|    3|    335.0|        5|      3|     2|   4|    2800.0|13500.0|3980000.0|           0|         0|         1|       0|                 0|         0|                1|      0|                 1|           0|       1|       0|              0|            0|\n",
            "|b37a2a08-d3c6-489...|    0|     72.0|        3|      2|     1|   2|     770.0| 1110.0| 420000.0|           0|         1|         0|       0|                 0|         0|                0|      0|                 0|           0|       0|       0|              0|            0|\n",
            "|a4b88c04-2655-414...|    0|    160.0|        3|      2|     1|   2|    1976.0|  389.0| 850000.0|           0|         0|         1|       0|                 0|         0|                0|      1|                 0|           0|       1|       0|              0|            0|\n",
            "|3e9a8997-8071-4a4...|    0|     85.0|        2|      2|     1|   2|     900.0| 2500.0| 680000.0|           0|         0|         1|       0|                 1|         1|                1|      1|                 1|           1|       1|       1|              1|            1|\n",
            "|efef38d2-12cf-428...|    0|    140.0|        4|      3|     1|   2|    1850.0| 4000.0|1950000.0|           0|         0|         1|       0|                 0|         1|                0|      1|                 0|           0|       0|       0|              1|            1|\n",
            "|9ab97f8d-0d2a-4a9...|    0|    156.0|        2|      3|     1|   1|    1152.0|  419.0|1180000.0|           0|         0|         0|       1|                 0|         0|                0|      0|                 0|           0|       1|       0|              0|            0|\n",
            "|6179c8a4-1fd2-4f5...|    0|    356.0|        8|      4|     4|   3|    4400.0|10000.0|2700000.0|           0|         0|         1|       0|                 1|         1|                1|      1|                 1|           1|       1|       1|              1|            0|\n",
            "|4c49bd8a-815f-496...|    0|    180.0|        3|      4|     1|   1|    1841.0|  600.0|2248000.0|           0|         0|         0|       1|                 0|         0|                0|      0|                 0|           0|       0|       0|              0|            0|\n",
            "|af143cf5-1902-4fb...|    0|     46.0|        1|      2|     0|   0|       0.0|    0.0| 276000.0|           0|         0|         1|       0|                 0|         1|                0|      0|                 0|           0|       0|       0|              1|            0|\n",
            "|e4031c0d-5b72-493...|   10|     50.0|        1|      2|     0|   1|     300.0|  150.0| 300000.0|           0|         0|         1|       0|                 1|         1|                1|      1|                 1|           1|       1|       1|              1|            1|\n",
            "+--------------------+-----+---------+---------+-------+------+----+----------+-------+---------+------------+----------+----------+--------+------------------+----------+-----------------+-------+------------------+------------+--------+--------+---------------+-------------+\n",
            "only showing top 20 rows\n",
            "\n"
          ]
        }
      ]
    },
    {
      "cell_type": "markdown",
      "source": [
        "# Vetorização dos dados"
      ],
      "metadata": {
        "id": "QNCEoa5pRSFS"
      }
    },
    {
      "cell_type": "code",
      "source": [
        "from pyspark.ml.feature import VectorAssembler\n",
        "\n",
        "x = ['andar',\n",
        " 'area_util',\n",
        " 'banheiros',\n",
        " 'quartos',\n",
        " 'suites',\n",
        " 'vaga',\n",
        " 'condominio',\n",
        " 'iptu',\n",
        " 'Zona Central',\n",
        " 'Zona Norte',\n",
        " 'Zona Oeste',\n",
        " 'Zona Sul',\n",
        " 'playground',\n",
        " 'portao_eletronico',\n",
        " 'piscina',\n",
        " 'animais_permitidos',\n",
        " 'portaria_24h',\n",
        " 'elevador',\n",
        " 'academia',\n",
        " 'salao_de_festas',\n",
        " 'churrasqueira']\n",
        "\n",
        "vect_features = VectorAssembler(inputCols = x, outputCol = 'features')\n",
        "imoves_vect = vect_features.transform(df_final)\n",
        "\n",
        "imoves_vect.show(truncate=False)\n",
        "\n"
      ],
      "metadata": {
        "colab": {
          "base_uri": "https://localhost:8080/"
        },
        "id": "Nh79-Jt2RULr",
        "outputId": "06760247-691a-4dea-b7d6-b2289929bc05"
      },
      "execution_count": 114,
      "outputs": [
        {
          "output_type": "stream",
          "name": "stdout",
          "text": [
            "+------------------------------------+-----+---------+---------+-------+------+----+----------+-------+---------+------------+----------+----------+--------+------------------+----------+-----------------+-------+------------------+------------+--------+--------+---------------+-------------+------------------------------------------------------------------------------------------------+\n",
            "|id                                  |andar|area_util|banheiros|quartos|suites|vaga|condominio|iptu   |valor    |Zona Central|Zona Norte|Zona Oeste|Zona Sul|condominio_fechado|playground|portao_eletronico|piscina|animais_permitidos|portaria_24h|elevador|academia|salao_de_festas|churrasqueira|features                                                                                        |\n",
            "+------------------------------------+-----+---------+---------+-------+------+----+----------+-------+---------+------------+----------+----------+--------+------------------+----------+-----------------+-------+------------------+------------+--------+--------+---------------+-------------+------------------------------------------------------------------------------------------------+\n",
            "|4e47e4d4-3326-4eb5-ab19-7ea68e1e2912|0    |90.0     |2        |3      |1     |0   |950.0     |2677.0 |949020.0 |0           |0         |0         |1       |0                 |0         |0                |0      |0                 |0           |1       |0       |0              |0            |(21,[1,2,3,4,6,7,11,17],[90.0,2.0,3.0,1.0,950.0,2677.0,1.0,1.0])                                |\n",
            "|02fba6ef-a691-442a-997f-211944057adf|3    |64.0     |1        |2      |2     |1   |784.0     |80.0   |380000.0 |0           |0         |1         |0       |1                 |1         |1                |1      |1                 |1           |1       |1       |1              |1            |[3.0,64.0,1.0,2.0,2.0,1.0,784.0,80.0,0.0,0.0,1.0,0.0,1.0,1.0,1.0,1.0,1.0,1.0,1.0,1.0,1.0]       |\n",
            "|fc03c1a9-8bbb-41a6-bd4d-43950b77dd60|0    |82.0     |2        |3      |1     |1   |1515.0    |133.0  |580000.0 |0           |1         |0         |0       |1                 |0         |0                |1      |0                 |0           |1       |0       |0              |1            |(21,[1,2,3,4,5,6,7,9,14,17,20],[82.0,2.0,3.0,1.0,1.0,1515.0,133.0,1.0,1.0,1.0,1.0])             |\n",
            "|3dd5d200-0a7f-43db-ba7c-c26a25189674|0    |170.0    |3        |4      |1     |1   |2250.0    |3000.0 |1450000.0|0           |0         |0         |1       |0                 |0         |0                |0      |0                 |0           |1       |0       |0              |0            |(21,[1,2,3,4,5,6,7,11,17],[170.0,3.0,4.0,1.0,1.0,2250.0,3000.0,1.0,1.0])                        |\n",
            "|82707939-71bd-40c6-896c-6944e9848ccb|0    |525.0    |4        |4      |2     |2   |5000.0    |2100.0 |5199000.0|0           |0         |0         |1       |0                 |0         |0                |0      |0                 |0           |0       |0       |0              |0            |(21,[1,2,3,4,5,6,7,11],[525.0,4.0,4.0,2.0,2.0,5000.0,2100.0,1.0])                               |\n",
            "|ece1e671-cb4d-48ae-b0c5-57bd62566aa1|0    |50.0     |1        |2      |0     |1   |320.0     |80.0   |330000.0 |1           |0         |0         |0       |1                 |1         |1                |1      |1                 |1           |1       |1       |1              |1            |[0.0,50.0,1.0,2.0,0.0,1.0,320.0,80.0,1.0,0.0,0.0,0.0,1.0,1.0,1.0,1.0,1.0,1.0,1.0,1.0,1.0]       |\n",
            "|3521e03b-0815-4aa0-831a-1bddec33ce47|0    |286.0    |7        |7      |3     |4   |2148.0    |15000.0|4500000.0|0           |0         |0         |1       |1                 |0         |1                |0      |0                 |1           |0       |0       |0              |0            |(21,[1,2,3,4,5,6,7,11,13,16],[286.0,7.0,7.0,3.0,4.0,2148.0,15000.0,1.0,1.0,1.0])                |\n",
            "|03a386b6-7ab8-4eff-891d-f8a16efc1989|0    |43.0     |1        |2      |0     |1   |285.0     |0.0    |22999.0  |0           |0         |1         |0       |1                 |1         |1                |0      |1                 |1           |0       |1       |1              |1            |[0.0,43.0,1.0,2.0,0.0,1.0,285.0,0.0,0.0,0.0,1.0,0.0,1.0,1.0,0.0,1.0,1.0,0.0,1.0,1.0,1.0]        |\n",
            "|107507e0-f075-47e1-9002-b2dcc85503e9|0    |122.0    |1        |3      |1     |2   |810.0     |3000.0 |895000.0 |0           |0         |1         |0       |1                 |0         |1                |0      |1                 |0           |1       |0       |0              |1            |(21,[1,2,3,4,5,6,7,10,13,15,17,20],[122.0,1.0,3.0,1.0,2.0,810.0,3000.0,1.0,1.0,1.0,1.0,1.0])    |\n",
            "|e5e00255-6408-4e6b-8f58-194e07ea1d5f|1234 |245.0    |5        |4      |2     |3   |3800.0    |7900.0 |2080000.0|0           |0         |1         |0       |1                 |1         |1                |1      |1                 |1           |1       |1       |1              |1            |[1234.0,245.0,5.0,4.0,2.0,3.0,3800.0,7900.0,0.0,0.0,1.0,0.0,1.0,1.0,1.0,1.0,1.0,1.0,1.0,1.0,1.0]|\n",
            "|c7e56e3a-a2b2-48aa-8f74-d46b8f9302eb|3    |335.0    |5        |3      |2     |4   |2800.0    |13500.0|3980000.0|0           |0         |1         |0       |0                 |0         |1                |0      |1                 |0           |1       |0       |0              |0            |(21,[0,1,2,3,4,5,6,7,10,13,15,17],[3.0,335.0,5.0,3.0,2.0,4.0,2800.0,13500.0,1.0,1.0,1.0,1.0])   |\n",
            "|b37a2a08-d3c6-4899-9d7a-4c1fec561717|0    |72.0     |3        |2      |1     |2   |770.0     |1110.0 |420000.0 |0           |1         |0         |0       |0                 |0         |0                |0      |0                 |0           |0       |0       |0              |0            |(21,[1,2,3,4,5,6,7,9],[72.0,3.0,2.0,1.0,2.0,770.0,1110.0,1.0])                                  |\n",
            "|a4b88c04-2655-4148-b796-9e17452d2f05|0    |160.0    |3        |2      |1     |2   |1976.0    |389.0  |850000.0 |0           |0         |1         |0       |0                 |0         |0                |1      |0                 |0           |1       |0       |0              |0            |(21,[1,2,3,4,5,6,7,10,14,17],[160.0,3.0,2.0,1.0,2.0,1976.0,389.0,1.0,1.0,1.0])                  |\n",
            "|3e9a8997-8071-4a4b-818a-cffa8386aa9b|0    |85.0     |2        |2      |1     |2   |900.0     |2500.0 |680000.0 |0           |0         |1         |0       |1                 |1         |1                |1      |1                 |1           |1       |1       |1              |1            |[0.0,85.0,2.0,2.0,1.0,2.0,900.0,2500.0,0.0,0.0,1.0,0.0,1.0,1.0,1.0,1.0,1.0,1.0,1.0,1.0,1.0]     |\n",
            "|efef38d2-12cf-4286-80de-af354c784c33|0    |140.0    |4        |3      |1     |2   |1850.0    |4000.0 |1950000.0|0           |0         |1         |0       |0                 |1         |0                |1      |0                 |0           |0       |0       |1              |1            |(21,[1,2,3,4,5,6,7,10,12,14,19,20],[140.0,4.0,3.0,1.0,2.0,1850.0,4000.0,1.0,1.0,1.0,1.0,1.0])   |\n",
            "|9ab97f8d-0d2a-4a91-942d-a805e7fae842|0    |156.0    |2        |3      |1     |1   |1152.0    |419.0  |1180000.0|0           |0         |0         |1       |0                 |0         |0                |0      |0                 |0           |1       |0       |0              |0            |(21,[1,2,3,4,5,6,7,11,17],[156.0,2.0,3.0,1.0,1.0,1152.0,419.0,1.0,1.0])                         |\n",
            "|6179c8a4-1fd2-4f54-a91d-68d1ba80dd26|0    |356.0    |8        |4      |4     |3   |4400.0    |10000.0|2700000.0|0           |0         |1         |0       |1                 |1         |1                |1      |1                 |1           |1       |1       |1              |0            |[0.0,356.0,8.0,4.0,4.0,3.0,4400.0,10000.0,0.0,0.0,1.0,0.0,1.0,1.0,1.0,1.0,1.0,1.0,1.0,1.0,0.0]  |\n",
            "|4c49bd8a-815f-4960-9be0-6a3c2f44f0ac|0    |180.0    |3        |4      |1     |1   |1841.0    |600.0  |2248000.0|0           |0         |0         |1       |0                 |0         |0                |0      |0                 |0           |0       |0       |0              |0            |(21,[1,2,3,4,5,6,7,11],[180.0,3.0,4.0,1.0,1.0,1841.0,600.0,1.0])                                |\n",
            "|af143cf5-1902-4fbb-8ee1-0a3488856e0a|0    |46.0     |1        |2      |0     |0   |0.0       |0.0    |276000.0 |0           |0         |1         |0       |0                 |1         |0                |0      |0                 |0           |0       |0       |1              |0            |(21,[1,2,3,10,12,19],[46.0,1.0,2.0,1.0,1.0,1.0])                                                |\n",
            "|e4031c0d-5b72-4930-93ed-189028f0526c|10   |50.0     |1        |2      |0     |1   |300.0     |150.0  |300000.0 |0           |0         |1         |0       |1                 |1         |1                |1      |1                 |1           |1       |1       |1              |1            |[10.0,50.0,1.0,2.0,0.0,1.0,300.0,150.0,0.0,0.0,1.0,0.0,1.0,1.0,1.0,1.0,1.0,1.0,1.0,1.0,1.0]     |\n",
            "+------------------------------------+-----+---------+---------+-------+------+----+----------+-------+---------+------------+----------+----------+--------+------------------+----------+-----------------+-------+------------------+------------+--------+--------+---------------+-------------+------------------------------------------------------------------------------------------------+\n",
            "only showing top 20 rows\n",
            "\n"
          ]
        }
      ]
    },
    {
      "cell_type": "markdown",
      "source": [],
      "metadata": {
        "id": "jO5YMmMkkKQx"
      }
    }
  ]
}