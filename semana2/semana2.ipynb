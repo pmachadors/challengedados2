{
  "cells": [
    {
      "cell_type": "markdown",
      "metadata": {
        "colab_type": "text",
        "id": "view-in-github"
      },
      "source": [
        "<a href=\"https://colab.research.google.com/github/pmachadors/challengedados2/blob/main/semana2/semana2.ipynb\" target=\"_parent\"><img src=\"https://colab.research.google.com/assets/colab-badge.svg\" alt=\"Open In Colab\"/></a>"
      ]
    },
    {
      "cell_type": "code",
      "execution_count": 3,
      "metadata": {
        "colab": {
          "base_uri": "https://localhost:8080/"
        },
        "id": "H6RB1UFojz24",
        "outputId": "5595e566-dea4-47a4-c067-c06c62264580"
      },
      "outputs": [
        {
          "name": "stdout",
          "output_type": "stream",
          "text": [
            "Defaulting to user installation because normal site-packages is not writeable\n",
            "Requirement already satisfied: pyspark in /home/pmachadors/.local/lib/python3.10/site-packages (3.3.1)\n",
            "Requirement already satisfied: py4j==0.10.9.5 in /home/pmachadors/.local/lib/python3.10/site-packages (from pyspark) (0.10.9.5)\n",
            "Defaulting to user installation because normal site-packages is not writeable\n",
            "Requirement already satisfied: matplotlib in /home/pmachadors/.local/lib/python3.10/site-packages (3.6.2)\n",
            "Requirement already satisfied: packaging>=20.0 in /usr/lib/python3/dist-packages (from matplotlib) (21.3)\n",
            "Requirement already satisfied: pillow>=6.2.0 in /usr/lib/python3/dist-packages (from matplotlib) (9.0.1)\n",
            "Requirement already satisfied: cycler>=0.10 in /home/pmachadors/.local/lib/python3.10/site-packages (from matplotlib) (0.11.0)\n",
            "Requirement already satisfied: pyparsing>=2.2.1 in /usr/lib/python3/dist-packages (from matplotlib) (2.4.7)\n",
            "Requirement already satisfied: numpy>=1.19 in /home/pmachadors/.local/lib/python3.10/site-packages (from matplotlib) (1.23.4)\n",
            "Requirement already satisfied: python-dateutil>=2.7 in /home/pmachadors/.local/lib/python3.10/site-packages (from matplotlib) (2.8.2)\n",
            "Requirement already satisfied: fonttools>=4.22.0 in /home/pmachadors/.local/lib/python3.10/site-packages (from matplotlib) (4.38.0)\n",
            "Requirement already satisfied: contourpy>=1.0.1 in /home/pmachadors/.local/lib/python3.10/site-packages (from matplotlib) (1.0.6)\n",
            "Requirement already satisfied: kiwisolver>=1.0.1 in /home/pmachadors/.local/lib/python3.10/site-packages (from matplotlib) (1.4.4)\n",
            "Requirement already satisfied: six>=1.5 in /usr/lib/python3/dist-packages (from python-dateutil>=2.7->matplotlib) (1.16.0)\n",
            "Defaulting to user installation because normal site-packages is not writeable\n",
            "Requirement already satisfied: seaborn in /home/pmachadors/.local/lib/python3.10/site-packages (0.12.1)\n",
            "Requirement already satisfied: matplotlib!=3.6.1,>=3.1 in /home/pmachadors/.local/lib/python3.10/site-packages (from seaborn) (3.6.2)\n",
            "Requirement already satisfied: pandas>=0.25 in /home/pmachadors/.local/lib/python3.10/site-packages (from seaborn) (1.5.1)\n",
            "Requirement already satisfied: numpy>=1.17 in /home/pmachadors/.local/lib/python3.10/site-packages (from seaborn) (1.23.4)\n",
            "Requirement already satisfied: cycler>=0.10 in /home/pmachadors/.local/lib/python3.10/site-packages (from matplotlib!=3.6.1,>=3.1->seaborn) (0.11.0)\n",
            "Requirement already satisfied: pillow>=6.2.0 in /usr/lib/python3/dist-packages (from matplotlib!=3.6.1,>=3.1->seaborn) (9.0.1)\n",
            "Requirement already satisfied: fonttools>=4.22.0 in /home/pmachadors/.local/lib/python3.10/site-packages (from matplotlib!=3.6.1,>=3.1->seaborn) (4.38.0)\n",
            "Requirement already satisfied: kiwisolver>=1.0.1 in /home/pmachadors/.local/lib/python3.10/site-packages (from matplotlib!=3.6.1,>=3.1->seaborn) (1.4.4)\n",
            "Requirement already satisfied: python-dateutil>=2.7 in /home/pmachadors/.local/lib/python3.10/site-packages (from matplotlib!=3.6.1,>=3.1->seaborn) (2.8.2)\n",
            "Requirement already satisfied: pyparsing>=2.2.1 in /usr/lib/python3/dist-packages (from matplotlib!=3.6.1,>=3.1->seaborn) (2.4.7)\n",
            "Requirement already satisfied: contourpy>=1.0.1 in /home/pmachadors/.local/lib/python3.10/site-packages (from matplotlib!=3.6.1,>=3.1->seaborn) (1.0.6)\n",
            "Requirement already satisfied: packaging>=20.0 in /usr/lib/python3/dist-packages (from matplotlib!=3.6.1,>=3.1->seaborn) (21.3)\n",
            "Requirement already satisfied: pytz>=2020.1 in /usr/lib/python3/dist-packages (from pandas>=0.25->seaborn) (2022.1)\n",
            "Requirement already satisfied: six>=1.5 in /usr/lib/python3/dist-packages (from python-dateutil>=2.7->matplotlib!=3.6.1,>=3.1->seaborn) (1.16.0)\n"
          ]
        }
      ],
      "source": [
        "!pip install pyspark\n",
        "!pip install matplotlib\n",
        "!pip install seaborn"
      ]
    },
    {
      "cell_type": "markdown",
      "metadata": {
        "id": "sYB_fQX_kLLj"
      },
      "source": [
        "# Importando dados e criando sessão"
      ]
    },
    {
      "cell_type": "code",
      "execution_count": 4,
      "metadata": {
        "colab": {
          "base_uri": "https://localhost:8080/"
        },
        "id": "PjdcuSf1j9ja",
        "outputId": "0be0984d-47ba-4dbb-d20b-2d9aa8ada4aa"
      },
      "outputs": [
        {
          "ename": "AnalysisException",
          "evalue": "Path does not exist: file:/home/pmachadors/Estudo/challengedados2/semana2/semana2/part-00000-00341ba7-0a7c-4fef-a81e-1066725a64b1-c000.snappy.parquet",
          "output_type": "error",
          "traceback": [
            "\u001b[0;31m---------------------------------------------------------------------------\u001b[0m",
            "\u001b[0;31mAnalysisException\u001b[0m                         Traceback (most recent call last)",
            "Cell \u001b[0;32mIn[4], line 7\u001b[0m\n\u001b[1;32m      3\u001b[0m \u001b[39mfrom\u001b[39;00m \u001b[39mpyspark\u001b[39;00m\u001b[39m.\u001b[39;00m\u001b[39msql\u001b[39;00m\u001b[39m.\u001b[39;00m\u001b[39mtypes\u001b[39;00m \u001b[39mimport\u001b[39;00m \u001b[39m*\u001b[39m\n\u001b[1;32m      5\u001b[0m spark \u001b[39m=\u001b[39m SparkSession\u001b[39m.\u001b[39mbuilder\u001b[39m.\u001b[39mappName(\u001b[39m'\u001b[39m\u001b[39msemana2\u001b[39m\u001b[39m'\u001b[39m)\u001b[39m.\u001b[39mgetOrCreate()\n\u001b[0;32m----> 7\u001b[0m df \u001b[39m=\u001b[39m spark\u001b[39m.\u001b[39;49mread\u001b[39m.\u001b[39;49mparquet(\u001b[39m'\u001b[39;49m\u001b[39msemana2/part-00000-00341ba7-0a7c-4fef-a81e-1066725a64b1-c000.snappy.parquet\u001b[39;49m\u001b[39m'\u001b[39;49m)\n\u001b[1;32m      8\u001b[0m df\u001b[39m.\u001b[39mshow(truncate\u001b[39m=\u001b[39m\u001b[39mFalse\u001b[39;00m)\n",
            "File \u001b[0;32m~/.local/lib/python3.10/site-packages/pyspark/sql/readwriter.py:364\u001b[0m, in \u001b[0;36mDataFrameReader.parquet\u001b[0;34m(self, *paths, **options)\u001b[0m\n\u001b[1;32m    353\u001b[0m int96RebaseMode \u001b[39m=\u001b[39m options\u001b[39m.\u001b[39mget(\u001b[39m\"\u001b[39m\u001b[39mint96RebaseMode\u001b[39m\u001b[39m\"\u001b[39m, \u001b[39mNone\u001b[39;00m)\n\u001b[1;32m    354\u001b[0m \u001b[39mself\u001b[39m\u001b[39m.\u001b[39m_set_opts(\n\u001b[1;32m    355\u001b[0m     mergeSchema\u001b[39m=\u001b[39mmergeSchema,\n\u001b[1;32m    356\u001b[0m     pathGlobFilter\u001b[39m=\u001b[39mpathGlobFilter,\n\u001b[0;32m   (...)\u001b[0m\n\u001b[1;32m    361\u001b[0m     int96RebaseMode\u001b[39m=\u001b[39mint96RebaseMode,\n\u001b[1;32m    362\u001b[0m )\n\u001b[0;32m--> 364\u001b[0m \u001b[39mreturn\u001b[39;00m \u001b[39mself\u001b[39m\u001b[39m.\u001b[39m_df(\u001b[39mself\u001b[39;49m\u001b[39m.\u001b[39;49m_jreader\u001b[39m.\u001b[39;49mparquet(_to_seq(\u001b[39mself\u001b[39;49m\u001b[39m.\u001b[39;49m_spark\u001b[39m.\u001b[39;49m_sc, paths)))\n",
            "File \u001b[0;32m~/.local/lib/python3.10/site-packages/py4j/java_gateway.py:1321\u001b[0m, in \u001b[0;36mJavaMember.__call__\u001b[0;34m(self, *args)\u001b[0m\n\u001b[1;32m   1315\u001b[0m command \u001b[39m=\u001b[39m proto\u001b[39m.\u001b[39mCALL_COMMAND_NAME \u001b[39m+\u001b[39m\\\n\u001b[1;32m   1316\u001b[0m     \u001b[39mself\u001b[39m\u001b[39m.\u001b[39mcommand_header \u001b[39m+\u001b[39m\\\n\u001b[1;32m   1317\u001b[0m     args_command \u001b[39m+\u001b[39m\\\n\u001b[1;32m   1318\u001b[0m     proto\u001b[39m.\u001b[39mEND_COMMAND_PART\n\u001b[1;32m   1320\u001b[0m answer \u001b[39m=\u001b[39m \u001b[39mself\u001b[39m\u001b[39m.\u001b[39mgateway_client\u001b[39m.\u001b[39msend_command(command)\n\u001b[0;32m-> 1321\u001b[0m return_value \u001b[39m=\u001b[39m get_return_value(\n\u001b[1;32m   1322\u001b[0m     answer, \u001b[39mself\u001b[39;49m\u001b[39m.\u001b[39;49mgateway_client, \u001b[39mself\u001b[39;49m\u001b[39m.\u001b[39;49mtarget_id, \u001b[39mself\u001b[39;49m\u001b[39m.\u001b[39;49mname)\n\u001b[1;32m   1324\u001b[0m \u001b[39mfor\u001b[39;00m temp_arg \u001b[39min\u001b[39;00m temp_args:\n\u001b[1;32m   1325\u001b[0m     temp_arg\u001b[39m.\u001b[39m_detach()\n",
            "File \u001b[0;32m~/.local/lib/python3.10/site-packages/pyspark/sql/utils.py:196\u001b[0m, in \u001b[0;36mcapture_sql_exception.<locals>.deco\u001b[0;34m(*a, **kw)\u001b[0m\n\u001b[1;32m    192\u001b[0m converted \u001b[39m=\u001b[39m convert_exception(e\u001b[39m.\u001b[39mjava_exception)\n\u001b[1;32m    193\u001b[0m \u001b[39mif\u001b[39;00m \u001b[39mnot\u001b[39;00m \u001b[39misinstance\u001b[39m(converted, UnknownException):\n\u001b[1;32m    194\u001b[0m     \u001b[39m# Hide where the exception came from that shows a non-Pythonic\u001b[39;00m\n\u001b[1;32m    195\u001b[0m     \u001b[39m# JVM exception message.\u001b[39;00m\n\u001b[0;32m--> 196\u001b[0m     \u001b[39mraise\u001b[39;00m converted \u001b[39mfrom\u001b[39;00m \u001b[39mNone\u001b[39m\n\u001b[1;32m    197\u001b[0m \u001b[39melse\u001b[39;00m:\n\u001b[1;32m    198\u001b[0m     \u001b[39mraise\u001b[39;00m\n",
            "\u001b[0;31mAnalysisException\u001b[0m: Path does not exist: file:/home/pmachadors/Estudo/challengedados2/semana2/semana2/part-00000-00341ba7-0a7c-4fef-a81e-1066725a64b1-c000.snappy.parquet"
          ]
        }
      ],
      "source": [
        "from pyspark.sql import SparkSession\n",
        "from pyspark.sql import functions as f\n",
        "from pyspark.sql.types import *\n",
        "\n",
        "spark = SparkSession.builder.appName('semana2').getOrCreate()\n",
        "\n",
        "df = spark.read.parquet('dataset_transformado_parquet/part-00000-00341ba7-0a7c-4fef-a81e-1066725a64b1-c000.snappy.parquet')\n",
        "df.show(truncate=False)"
      ]
    },
    {
      "cell_type": "markdown",
      "metadata": {
        "id": "becrjlwdkXBw"
      },
      "source": [
        "# seleção de features"
      ]
    },
    {
      "cell_type": "code",
      "execution_count": null,
      "metadata": {
        "colab": {
          "base_uri": "https://localhost:8080/"
        },
        "id": "R-zgEpy1kY9g",
        "outputId": "819e2f3b-e37d-498a-d55e-41ba6adbdb4a"
      },
      "outputs": [
        {
          "name": "stdout",
          "output_type": "stream",
          "text": [
            "+------------------------------------+-----+---------+---------+-------------------------------------------------------------------------------------------------------------------------------+-------+------+----+------------+------------+----------+----+------+\n",
            "|id                                  |andar|area_util|banheiros|caracteristicas                                                                                                                |quartos|suites|vaga|bairro      |zona        |condominio|iptu|valor |\n",
            "+------------------------------------+-----+---------+---------+-------------------------------------------------------------------------------------------------------------------------------+-------+------+----+------------+------------+----------+----+------+\n",
            "|03a386b6-7ab8-4eff-891d-f8a16efc1989|0    |43       |1        |[Churrasqueira, Academia, Playground, Salão de festas, Condomínio fechado, Portão eletrônico, Portaria 24h, Animais permitidos]|2      |null  |1   |Realengo    |Zona Oeste  |285       |null|22999 |\n",
            "|1fe78d41-b8e0-4d21-a1a8-72cb7863f441|0    |44       |1        |[]                                                                                                                             |2      |0     |0   |Irajá       |Zona Norte  |170       |0   |110000|\n",
            "|1fa1c1e5-e98c-433f-9675-1b43d7d6da01|4    |55       |1        |[]                                                                                                                             |2      |0     |1   |Cosmos      |Zona Oeste  |null      |null|115000|\n",
            "|a6ab01ae-3d40-40e7-bb6a-f2334e0abbe0|2    |55       |1        |[]                                                                                                                             |2      |0     |0   |Tomás Coelho|Zona Norte  |null      |null|115000|\n",
            "|1d8ff7a2-16bd-4e3f-a92e-1b85f923ebb0|0    |50       |1        |[]                                                                                                                             |1      |null  |0   |Centro      |Zona Central|1300      |2679|125000|\n",
            "+------------------------------------+-----+---------+---------+-------------------------------------------------------------------------------------------------------------------------------+-------+------+----+------------+------------+----------+----+------+\n",
            "only showing top 5 rows\n",
            "\n"
          ]
        }
      ],
      "source": [
        "df_parquet = df.drop('area_total','tipo_anuncio','tipo_uso','tipo','tipo_unidade')\n",
        "df_parquet.show(5,truncate=False)"
      ]
    },
    {
      "cell_type": "markdown",
      "metadata": {
        "id": "mtL8-u_wCmU1"
      },
      "source": []
    },
    {
      "cell_type": "markdown",
      "metadata": {
        "id": "TdniiMjGCmau"
      },
      "source": []
    },
    {
      "cell_type": "markdown",
      "metadata": {
        "id": "gJtIQ707k-K0"
      },
      "source": [
        "# Convertendo tipo de dados"
      ]
    },
    {
      "cell_type": "code",
      "execution_count": null,
      "metadata": {
        "colab": {
          "base_uri": "https://localhost:8080/"
        },
        "id": "Jw6SSoXgk_sY",
        "outputId": "b3a82a7a-3064-4dc6-c5cf-c9f96e459d48"
      },
      "outputs": [
        {
          "name": "stdout",
          "output_type": "stream",
          "text": [
            "root\n",
            " |-- id: string (nullable = true)\n",
            " |-- andar: long (nullable = true)\n",
            " |-- area_util: string (nullable = true)\n",
            " |-- banheiros: long (nullable = true)\n",
            " |-- caracteristicas: array (nullable = true)\n",
            " |    |-- element: string (containsNull = true)\n",
            " |-- quartos: long (nullable = true)\n",
            " |-- suites: long (nullable = true)\n",
            " |-- vaga: long (nullable = true)\n",
            " |-- bairro: string (nullable = true)\n",
            " |-- zona: string (nullable = true)\n",
            " |-- condominio: string (nullable = true)\n",
            " |-- iptu: string (nullable = true)\n",
            " |-- valor: string (nullable = true)\n",
            "\n",
            "root\n",
            " |-- id: string (nullable = true)\n",
            " |-- andar: integer (nullable = true)\n",
            " |-- area_util: integer (nullable = true)\n",
            " |-- banheiros: integer (nullable = true)\n",
            " |-- caracteristicas: array (nullable = true)\n",
            " |    |-- element: string (containsNull = true)\n",
            " |-- quartos: integer (nullable = true)\n",
            " |-- suites: integer (nullable = true)\n",
            " |-- vaga: integer (nullable = true)\n",
            " |-- bairro: string (nullable = true)\n",
            " |-- zona: string (nullable = true)\n",
            " |-- condominio: integer (nullable = true)\n",
            " |-- iptu: integer (nullable = true)\n",
            " |-- valor: integer (nullable = true)\n",
            "\n"
          ]
        }
      ],
      "source": [
        "lista_colunas = ['andar','banheiros', 'suites', 'quartos', 'vaga', 'area_util','condominio','iptu','valor']\n",
        "df_parquet.printSchema()\n",
        "\n",
        "for coluna in lista_colunas:\n",
        "  df_parquet = df_parquet.withColumn(coluna,df_parquet[coluna].cast(IntegerType()))\n",
        "                        \n",
        "df_parquet.printSchema()"
      ]
    },
    {
      "cell_type": "markdown",
      "metadata": {
        "id": "ywDHAnYMlWVH"
      },
      "source": [
        "# Transformando lista vazia em nulo na coluna caracteristicas\n",
        "\n"
      ]
    },
    {
      "cell_type": "code",
      "execution_count": null,
      "metadata": {
        "colab": {
          "base_uri": "https://localhost:8080/"
        },
        "id": "A3wtcHMglW4B",
        "outputId": "1e3fba37-3810-4cd4-dca9-561f09c10080"
      },
      "outputs": [
        {
          "name": "stdout",
          "output_type": "stream",
          "text": [
            "+--------------------+\n",
            "|     caracteristicas|\n",
            "+--------------------+\n",
            "|[Churrasqueira, A...|\n",
            "|                null|\n",
            "|                null|\n",
            "|                null|\n",
            "|                null|\n",
            "|[Condomínio fecha...|\n",
            "|[Churrasqueira, C...|\n",
            "|[Churrasqueira, P...|\n",
            "|[Churrasqueira, E...|\n",
            "|   [Salão de festas]|\n",
            "|[Condomínio fecha...|\n",
            "|[Playground, Chur...|\n",
            "|                null|\n",
            "|[Condomínio fecha...|\n",
            "|[Academia, Churra...|\n",
            "|[Academia, Condom...|\n",
            "|[Academia, Condom...|\n",
            "|                null|\n",
            "|[Salão de festas,...|\n",
            "|[Animais permitidos]|\n",
            "+--------------------+\n",
            "only showing top 20 rows\n",
            "\n"
          ]
        }
      ],
      "source": [
        "df_caracteristicas = df_parquet.withColumn('caracteristicas',f.when(f.size(f.col('caracteristicas')) == 0, f.lit(None)).otherwise(f.col('caracteristicas')))\n",
        "df_caracteristicas.select('caracteristicas').show()"
      ]
    },
    {
      "cell_type": "markdown",
      "metadata": {
        "id": "k8xCvcimltcf"
      },
      "source": [
        "# Preenchendo com 0 valores inteiros nulos"
      ]
    },
    {
      "cell_type": "code",
      "execution_count": null,
      "metadata": {
        "colab": {
          "base_uri": "https://localhost:8080/"
        },
        "id": "qcWsXLQUluGE",
        "outputId": "d243baec-77a0-402e-feaf-9fe2c457ede7"
      },
      "outputs": [
        {
          "name": "stdout",
          "output_type": "stream",
          "text": [
            "+--------------------+-----+---------+---------+--------------------+-------+------+----+--------------------+------------+----------+----+------+\n",
            "|                  id|andar|area_util|banheiros|     caracteristicas|quartos|suites|vaga|              bairro|        zona|condominio|iptu| valor|\n",
            "+--------------------+-----+---------+---------+--------------------+-------+------+----+--------------------+------------+----------+----+------+\n",
            "|03a386b6-7ab8-4ef...|    0|       43|        1|[Churrasqueira, A...|      2|     0|   1|            Realengo|  Zona Oeste|       285|   0| 22999|\n",
            "|1fe78d41-b8e0-4d2...|    0|       44|        1|                null|      2|     0|   0|               Irajá|  Zona Norte|       170|   0|110000|\n",
            "|1fa1c1e5-e98c-433...|    4|       55|        1|                null|      2|     0|   1|              Cosmos|  Zona Oeste|         0|   0|115000|\n",
            "|a6ab01ae-3d40-40e...|    2|       55|        1|                null|      2|     0|   0|        Tomás Coelho|  Zona Norte|         0|   0|115000|\n",
            "|1d8ff7a2-16bd-4e3...|    0|       50|        1|                null|      1|     0|   0|              Centro|Zona Central|      1300|2679|125000|\n",
            "|40a2cbde-946b-42d...|    2|       47|        1|[Condomínio fecha...|      2|     0|   1|        Campo Grande|  Zona Oeste|       380|   0|138000|\n",
            "|be269ddf-a4a3-4a7...|    0|       45|        1|[Churrasqueira, C...|      2|     0|   1|        Campo Grande|  Zona Oeste|       356|   0|140000|\n",
            "|4b7e3d59-34fd-4ba...|    3|       48|        1|[Churrasqueira, P...|      2|     0|   1|        Campo Grande|  Zona Oeste|         0|   0|150000|\n",
            "|a1a0c2ac-4fa8-4b0...|    9|       55|        1|[Churrasqueira, E...|      2|     0|   1|Freguesia (Jacare...|  Zona Oeste|       780| 660|160000|\n",
            "|390d2b88-e06d-47e...|    0|       70|        2|   [Salão de festas]|      2|     0|   1|          Praça Seca|  Zona Oeste|    420000|   0|159000|\n",
            "|07bb07c1-21cc-4da...|    2|       48|        1|[Condomínio fecha...|      1|     0|   0|             Piedade|  Zona Norte|        10|  10|170000|\n",
            "|7d3a1bae-988c-44b...|    5|       40|        1|[Playground, Chur...|      2|     0|   1|        Braz de Pina|  Zona Norte|       150| 120|189000|\n",
            "|47af17f0-1c81-474...|    0|       65|        1|                null|      2|     0|   1|            Campinho|  Zona Oeste|       432|   0|185000|\n",
            "|a9bd1575-e9f2-43d...|    2|       50|        1|[Condomínio fecha...|      1|     0|   1|           Madureira|  Zona Norte|       650|   1|185000|\n",
            "|cfca7253-3d02-4cd...|    5|       45|        1|[Academia, Churra...|      2|     1|   0|             Taquara|  Zona Oeste|       150|  40|199000|\n",
            "|b571ae97-e3d8-4fb...|    0|       48|        1|[Academia, Condom...|      2|     0|   0|          Bonsucesso|  Zona Norte|         0|   0|205933|\n",
            "|eb5fdc65-acae-45f...|    0|       44|        1|[Academia, Condom...|      2|     0|   0|          Bonsucesso|  Zona Norte|         0|   0|206000|\n",
            "|77cd0388-e3ff-40c...|    2|       64|        1|                null|      2|     0|   0|      Jardim América|  Zona Norte|         0|   0|220000|\n",
            "|74a91f07-7387-4a8...|    0|       55|        2|[Salão de festas,...|      1|     0|   1|        Engenho Novo|  Zona Norte|       600| 652|219130|\n",
            "|6aab1165-508d-455...|    3|       60|        1|[Animais permitidos]|      3|     0|   1|           Cascadura|  Zona Norte|        98|   1|230000|\n",
            "+--------------------+-----+---------+---------+--------------------+-------+------+----+--------------------+------------+----------+----+------+\n",
            "only showing top 20 rows\n",
            "\n"
          ]
        }
      ],
      "source": [
        "df_caracteristicas_ = df_caracteristicas.fillna(value=0,subset=['banheiros','quartos','suites','vaga','condominio','iptu'])\n",
        "df_caracteristicas_.show()"
      ]
    },
    {
      "cell_type": "markdown",
      "metadata": {
        "id": "HoGihDZZl3MS"
      },
      "source": [
        "# Dropando linhas que contenham valores nulos nas colunas "
      ]
    },
    {
      "cell_type": "code",
      "execution_count": null,
      "metadata": {
        "colab": {
          "base_uri": "https://localhost:8080/"
        },
        "id": "suCIPp0Al4Bn",
        "outputId": "6ccb059a-e272-4dd3-cd97-359255e81163"
      },
      "outputs": [
        {
          "name": "stdout",
          "output_type": "stream",
          "text": [
            "+--------------------+-----+---------+---------+--------------------+-------+------+----+--------------------+------------+----------+----+------+\n",
            "|                  id|andar|area_util|banheiros|     caracteristicas|quartos|suites|vaga|              bairro|        zona|condominio|iptu| valor|\n",
            "+--------------------+-----+---------+---------+--------------------+-------+------+----+--------------------+------------+----------+----+------+\n",
            "|03a386b6-7ab8-4ef...|    0|       43|        1|[Churrasqueira, A...|      2|     0|   1|            Realengo|  Zona Oeste|       285|   0| 22999|\n",
            "|1fe78d41-b8e0-4d2...|    0|       44|        1|                null|      2|     0|   0|               Irajá|  Zona Norte|       170|   0|110000|\n",
            "|1fa1c1e5-e98c-433...|    4|       55|        1|                null|      2|     0|   1|              Cosmos|  Zona Oeste|         0|   0|115000|\n",
            "|a6ab01ae-3d40-40e...|    2|       55|        1|                null|      2|     0|   0|        Tomás Coelho|  Zona Norte|         0|   0|115000|\n",
            "|1d8ff7a2-16bd-4e3...|    0|       50|        1|                null|      1|     0|   0|              Centro|Zona Central|      1300|2679|125000|\n",
            "|40a2cbde-946b-42d...|    2|       47|        1|[Condomínio fecha...|      2|     0|   1|        Campo Grande|  Zona Oeste|       380|   0|138000|\n",
            "|be269ddf-a4a3-4a7...|    0|       45|        1|[Churrasqueira, C...|      2|     0|   1|        Campo Grande|  Zona Oeste|       356|   0|140000|\n",
            "|4b7e3d59-34fd-4ba...|    3|       48|        1|[Churrasqueira, P...|      2|     0|   1|        Campo Grande|  Zona Oeste|         0|   0|150000|\n",
            "|a1a0c2ac-4fa8-4b0...|    9|       55|        1|[Churrasqueira, E...|      2|     0|   1|Freguesia (Jacare...|  Zona Oeste|       780| 660|160000|\n",
            "|390d2b88-e06d-47e...|    0|       70|        2|   [Salão de festas]|      2|     0|   1|          Praça Seca|  Zona Oeste|    420000|   0|159000|\n",
            "|07bb07c1-21cc-4da...|    2|       48|        1|[Condomínio fecha...|      1|     0|   0|             Piedade|  Zona Norte|        10|  10|170000|\n",
            "|7d3a1bae-988c-44b...|    5|       40|        1|[Playground, Chur...|      2|     0|   1|        Braz de Pina|  Zona Norte|       150| 120|189000|\n",
            "|47af17f0-1c81-474...|    0|       65|        1|                null|      2|     0|   1|            Campinho|  Zona Oeste|       432|   0|185000|\n",
            "|a9bd1575-e9f2-43d...|    2|       50|        1|[Condomínio fecha...|      1|     0|   1|           Madureira|  Zona Norte|       650|   1|185000|\n",
            "|cfca7253-3d02-4cd...|    5|       45|        1|[Academia, Churra...|      2|     1|   0|             Taquara|  Zona Oeste|       150|  40|199000|\n",
            "|b571ae97-e3d8-4fb...|    0|       48|        1|[Academia, Condom...|      2|     0|   0|          Bonsucesso|  Zona Norte|         0|   0|205933|\n",
            "|eb5fdc65-acae-45f...|    0|       44|        1|[Academia, Condom...|      2|     0|   0|          Bonsucesso|  Zona Norte|         0|   0|206000|\n",
            "|77cd0388-e3ff-40c...|    2|       64|        1|                null|      2|     0|   0|      Jardim América|  Zona Norte|         0|   0|220000|\n",
            "|74a91f07-7387-4a8...|    0|       55|        2|[Salão de festas,...|      1|     0|   1|        Engenho Novo|  Zona Norte|       600| 652|219130|\n",
            "|6aab1165-508d-455...|    3|       60|        1|[Animais permitidos]|      3|     0|   1|           Cascadura|  Zona Norte|        98|   1|230000|\n",
            "+--------------------+-----+---------+---------+--------------------+-------+------+----+--------------------+------------+----------+----+------+\n",
            "only showing top 20 rows\n",
            "\n"
          ]
        }
      ],
      "source": [
        "df_drop = df_caracteristicas_.na.drop(subset=['id','bairro','zona','zona'])\n",
        "df_drop.show()"
      ]
    },
    {
      "cell_type": "markdown",
      "metadata": {
        "id": "Y1z4fsFhmCjp"
      },
      "source": [
        "# Dropando string vazia no campo zona"
      ]
    },
    {
      "cell_type": "code",
      "execution_count": null,
      "metadata": {
        "colab": {
          "base_uri": "https://localhost:8080/"
        },
        "id": "IBUO7lPGmDLD",
        "outputId": "ff765084-3547-4dd7-f6f1-435a9040184b"
      },
      "outputs": [
        {
          "name": "stdout",
          "output_type": "stream",
          "text": [
            "+------------+-----+\n",
            "|        zona|count|\n",
            "+------------+-----+\n",
            "|  Zona Norte|11897|\n",
            "|  Zona Oeste|32979|\n",
            "|Zona Central| 1144|\n",
            "|    Zona Sul|20531|\n",
            "+------------+-----+\n",
            "\n"
          ]
        }
      ],
      "source": [
        "df_drop_ = df_drop.where(f.trim(f.col('zona')) != '')\n",
        "df_drop_.select('zona').groupBy('zona').count().show()"
      ]
    },
    {
      "cell_type": "markdown",
      "metadata": {
        "id": "B5rI8snemdYF"
      },
      "source": [
        "# Dummy Classifier na coluna Zona"
      ]
    },
    {
      "cell_type": "code",
      "execution_count": null,
      "metadata": {
        "colab": {
          "base_uri": "https://localhost:8080/"
        },
        "id": "OvESaP4TmfjP",
        "outputId": "0e1ec021-e960-406a-c590-d945e124a445"
      },
      "outputs": [
        {
          "name": "stdout",
          "output_type": "stream",
          "text": [
            "+--------------------+-----+---------+---------+--------------------+-------+------+----+--------------------+------------+----------+-----+-------+------------+----------+----------+--------+\n",
            "|                  id|andar|area_util|banheiros|     caracteristicas|quartos|suites|vaga|              bairro|        zona|condominio| iptu|  valor|Zona Central|Zona Norte|Zona Oeste|Zona Sul|\n",
            "+--------------------+-----+---------+---------+--------------------+-------+------+----+--------------------+------------+----------+-----+-------+------------+----------+----------+--------+\n",
            "|4e47e4d4-3326-4eb...|    0|       90|        2|          [Elevador]|      3|     1|   0|          Copacabana|    Zona Sul|       950| 2677| 949020|           0|         0|         0|       1|\n",
            "|02fba6ef-a691-442...|    3|       64|        1|[Academia, Churra...|      2|     2|   1|         Jacarepaguá|  Zona Oeste|       784|   80| 380000|           0|         0|         1|       0|\n",
            "|fc03c1a9-8bbb-41a...|    0|       82|        2|[Churrasqueira, C...|      3|     1|   1|              Tijuca|  Zona Norte|      1515|  133| 580000|           0|         1|         0|       0|\n",
            "|3dd5d200-0a7f-43d...|    0|      170|        3|          [Elevador]|      4|     1|   1|         Cosme Velho|    Zona Sul|      2250| 3000|1450000|           0|         0|         0|       1|\n",
            "|82707939-71bd-40c...|    0|      525|        4|                null|      4|     2|   2|            Flamengo|    Zona Sul|      5000| 2100|5199000|           0|         0|         0|       1|\n",
            "|ece1e671-cb4d-48a...|    0|       50|        1|[Academia, Churra...|      2|     0|   1|              Centro|Zona Central|       320|   80| 330000|           1|         0|         0|       0|\n",
            "|3521e03b-0815-4aa...|    0|      286|        7|[Portão eletrônic...|      7|     3|   4|          Copacabana|    Zona Sul|      2148|15000|4500000|           0|         0|         0|       1|\n",
            "|03a386b6-7ab8-4ef...|    0|       43|        1|[Churrasqueira, A...|      2|     0|   1|            Realengo|  Zona Oeste|       285|    0|  22999|           0|         0|         1|       0|\n",
            "|107507e0-f075-47e...|    0|      122|        1|[Elevador, Churra...|      3|     1|   2|Recreio dos Bande...|  Zona Oeste|       810| 3000| 895000|           0|         0|         1|       0|\n",
            "|e5e00255-6408-4e6...| 1234|      245|        5|[Portão eletrônic...|      4|     2|   3|     Barra da Tijuca|  Zona Oeste|      3800| 7900|2080000|           0|         0|         1|       0|\n",
            "|c7e56e3a-a2b2-48a...|    3|      335|        5|[Elevador, Portão...|      3|     2|   4|     Barra da Tijuca|  Zona Oeste|      2800|13500|3980000|           0|         0|         1|       0|\n",
            "|b37a2a08-d3c6-489...|    0|       72|        3|                null|      2|     1|   2|              Grajaú|  Zona Norte|       770| 1110| 420000|           0|         1|         0|       0|\n",
            "|a4b88c04-2655-414...|    0|      160|        3| [Elevador, Piscina]|      2|     1|   2|Recreio dos Bande...|  Zona Oeste|      1976|  389| 850000|           0|         0|         1|       0|\n",
            "|3e9a8997-8071-4a4...|    0|       85|        2|[Elevador, Academ...|      2|     1|   2|     Barra da Tijuca|  Zona Oeste|       900| 2500| 680000|           0|         0|         1|       0|\n",
            "|efef38d2-12cf-428...|    0|      140|        4|[Churrasqueira, P...|      3|     1|   2|     Barra da Tijuca|  Zona Oeste|      1850| 4000|1950000|           0|         0|         1|       0|\n",
            "|9ab97f8d-0d2a-4a9...|    0|      156|        2|          [Elevador]|      3|     1|   1|          Copacabana|    Zona Sul|      1152|  419|1180000|           0|         0|         0|       1|\n",
            "|6179c8a4-1fd2-4f5...|    0|      356|        8|[Condomínio fecha...|      4|     4|   3|     Barra da Tijuca|  Zona Oeste|      4400|10000|2700000|           0|         0|         1|       0|\n",
            "|4c49bd8a-815f-496...|    0|      180|        3|                null|      4|     1|   1|               Gávea|    Zona Sul|      1841|  600|2248000|           0|         0|         0|       1|\n",
            "|af143cf5-1902-4fb...|    0|       46|        1|[Playground, Salã...|      2|     0|   0|           Pechincha|  Zona Oeste|         0|    0| 276000|           0|         0|         1|       0|\n",
            "|e4031c0d-5b72-493...|   10|       50|        1|[Academia, Churra...|      2|     0|   1|         Jacarepaguá|  Zona Oeste|       300|  150| 300000|           0|         0|         1|       0|\n",
            "+--------------------+-----+---------+---------+--------------------+-------+------+----+--------------------+------------+----------+-----+-------+------------+----------+----------+--------+\n",
            "only showing top 20 rows\n",
            "\n"
          ]
        }
      ],
      "source": [
        "df_dummy_zona = df_drop_\\\n",
        "    .groupBy('id')\\\n",
        "    .pivot('zona')\\\n",
        "    .agg(f.lit(1))\\\n",
        "    .na\\\n",
        "    .fill(0)\n",
        "\n",
        "df_join = df_drop_.join(df_dummy_zona,'id',how='inner')\n",
        "df_join.show()"
      ]
    },
    {
      "cell_type": "markdown",
      "metadata": {
        "id": "dakTgzjyoU5T"
      },
      "source": [
        "# Dummy Classifier na coluna Caracteristicas"
      ]
    },
    {
      "cell_type": "code",
      "execution_count": null,
      "metadata": {
        "colab": {
          "base_uri": "https://localhost:8080/"
        },
        "id": "thgwVQeUoW-A",
        "outputId": "c3cb1632-fa56-4da7-954e-906393d0eedd"
      },
      "outputs": [
        {
          "name": "stdout",
          "output_type": "stream",
          "text": [
            "+------------------+\n",
            "|               col|\n",
            "+------------------+\n",
            "|Condomínio fechado|\n",
            "|        Playground|\n",
            "| Portão eletrônico|\n",
            "|           Piscina|\n",
            "|Animais permitidos|\n",
            "|      Portaria 24h|\n",
            "|          Elevador|\n",
            "|          Academia|\n",
            "|   Salão de festas|\n",
            "|     Churrasqueira|\n",
            "+------------------+\n",
            "\n"
          ]
        }
      ],
      "source": [
        "df_join.select(f.explode('caracteristicas')).distinct().show()"
      ]
    },
    {
      "cell_type": "code",
      "execution_count": null,
      "metadata": {
        "colab": {
          "base_uri": "https://localhost:8080/"
        },
        "id": "CPMUyBQ95iCt",
        "outputId": "22b3143d-c4c2-4d99-adbb-563bd750657f"
      },
      "outputs": [
        {
          "name": "stdout",
          "output_type": "stream",
          "text": [
            "+------------------------------------+-----+---------+---------+--------------------------------------------------------------------------------------------------------------------------------------------------+-------+------+----+-----------+----------+----------+----+-------+------------+----------+----------+--------+\n",
            "|id                                  |andar|area_util|banheiros|caracteristicas                                                                                                                                   |quartos|suites|vaga|bairro     |zona      |condominio|iptu|valor  |Zona Central|Zona Norte|Zona Oeste|Zona Sul|\n",
            "+------------------------------------+-----+---------+---------+--------------------------------------------------------------------------------------------------------------------------------------------------+-------+------+----+-----------+----------+----------+----+-------+------------+----------+----------+--------+\n",
            "|4e47e4d4-3326-4eb5-ab19-7ea68e1e2912|0    |90       |2        |[Elevador]                                                                                                                                        |3      |1     |0   |Copacabana |Zona Sul  |950       |2677|949020 |0           |0         |0         |1       |\n",
            "|02fba6ef-a691-442a-997f-211944057adf|3    |64       |1        |[Academia, Churrasqueira, Piscina, Playground, Salão de festas, Elevador, Condomínio fechado, Portão eletrônico, Portaria 24h, Animais permitidos]|2      |2     |1   |Jacarepaguá|Zona Oeste|784       |80  |380000 |0           |0         |1         |0       |\n",
            "|fc03c1a9-8bbb-41a6-bd4d-43950b77dd60|0    |82       |2        |[Churrasqueira, Condomínio fechado, Elevador, Piscina]                                                                                            |3      |1     |1   |Tijuca     |Zona Norte|1515      |133 |580000 |0           |1         |0         |0       |\n",
            "|3dd5d200-0a7f-43db-ba7c-c26a25189674|0    |170      |3        |[Elevador]                                                                                                                                        |4      |1     |1   |Cosme Velho|Zona Sul  |2250      |3000|1450000|0           |0         |0         |1       |\n",
            "|82707939-71bd-40c6-896c-6944e9848ccb|0    |525      |4        |null                                                                                                                                              |4      |2     |2   |Flamengo   |Zona Sul  |5000      |2100|5199000|0           |0         |0         |1       |\n",
            "+------------------------------------+-----+---------+---------+--------------------------------------------------------------------------------------------------------------------------------------------------+-------+------+----+-----------+----------+----------+----+-------+------------+----------+----------+--------+\n",
            "only showing top 5 rows\n",
            "\n",
            "+------------------------------------+-----+---------+---------+--------------------------------------------------------------------------------------------------------------------------------------------------+-------+------+----+-----------+----------+----------+----+-------+------------+----------+----------+--------+------------------+----------+-----------------+-------+------------------+------------+--------+--------+---------------+-------------+\n",
            "|id                                  |andar|area_util|banheiros|caracteristicas                                                                                                                                   |quartos|suites|vaga|bairro     |zona      |condominio|iptu|valor  |Zona Central|Zona Norte|Zona Oeste|Zona Sul|Condomínio fechado|Playground|Portão eletrônico|Piscina|Animais permitidos|Portaria 24h|Elevador|Academia|Salão de festas|Churrasqueira|\n",
            "+------------------------------------+-----+---------+---------+--------------------------------------------------------------------------------------------------------------------------------------------------+-------+------+----+-----------+----------+----------+----+-------+------------+----------+----------+--------+------------------+----------+-----------------+-------+------------------+------------+--------+--------+---------------+-------------+\n",
            "|4e47e4d4-3326-4eb5-ab19-7ea68e1e2912|0    |90       |2        |[Elevador]                                                                                                                                        |3      |1     |0   |Copacabana |Zona Sul  |950       |2677|949020 |0           |0         |0         |1       |0                 |0         |0                |0      |0                 |0           |1       |0       |0              |0            |\n",
            "|02fba6ef-a691-442a-997f-211944057adf|3    |64       |1        |[Academia, Churrasqueira, Piscina, Playground, Salão de festas, Elevador, Condomínio fechado, Portão eletrônico, Portaria 24h, Animais permitidos]|2      |2     |1   |Jacarepaguá|Zona Oeste|784       |80  |380000 |0           |0         |1         |0       |1                 |1         |1                |1      |1                 |1           |1       |1       |1              |1            |\n",
            "|fc03c1a9-8bbb-41a6-bd4d-43950b77dd60|0    |82       |2        |[Churrasqueira, Condomínio fechado, Elevador, Piscina]                                                                                            |3      |1     |1   |Tijuca     |Zona Norte|1515      |133 |580000 |0           |1         |0         |0       |1                 |0         |0                |1      |0                 |0           |1       |0       |0              |1            |\n",
            "|3dd5d200-0a7f-43db-ba7c-c26a25189674|0    |170      |3        |[Elevador]                                                                                                                                        |4      |1     |1   |Cosme Velho|Zona Sul  |2250      |3000|1450000|0           |0         |0         |1       |0                 |0         |0                |0      |0                 |0           |1       |0       |0              |0            |\n",
            "|82707939-71bd-40c6-896c-6944e9848ccb|0    |525      |4        |null                                                                                                                                              |4      |2     |2   |Flamengo   |Zona Sul  |5000      |2100|5199000|0           |0         |0         |1       |0                 |0         |0                |0      |0                 |0           |0       |0       |0              |0            |\n",
            "+------------------------------------+-----+---------+---------+--------------------------------------------------------------------------------------------------------------------------------------------------+-------+------+----+-----------+----------+----------+----+-------+------------+----------+----------+--------+------------------+----------+-----------------+-------+------------------+------------+--------+--------+---------------+-------------+\n",
            "only showing top 5 rows\n",
            "\n"
          ]
        }
      ],
      "source": [
        "lista_caracteristicas = ['Condomínio fechado','Playground','Portão eletrônico','Piscina','Animais permitidos',\\\n",
        "                         'Portaria 24h','Elevador','Academia','Salão de festas','Churrasqueira']\n",
        "\n",
        "df_join.show(5,truncate=False)\n",
        "\n",
        "for coluna in lista_caracteristicas:\n",
        "  df_join = df_join.withColumn(coluna,f.when(f.array_contains(f.col(\"caracteristicas\"),coluna) == 'true',f.lit(1)).otherwise(0))\n",
        "\n",
        "df_join.show(5,truncate=False)\n",
        "\n"
      ]
    },
    {
      "cell_type": "markdown",
      "metadata": {
        "id": "XN-vakcX7uLK"
      },
      "source": [
        "# Dropando ultimas colunas"
      ]
    },
    {
      "cell_type": "code",
      "execution_count": null,
      "metadata": {
        "colab": {
          "base_uri": "https://localhost:8080/"
        },
        "id": "HhINe0yx7wbj",
        "outputId": "8f452ee1-574c-4cbc-b2b2-8b8c0c2e0a75"
      },
      "outputs": [
        {
          "name": "stdout",
          "output_type": "stream",
          "text": [
            "+------------------------------------+-----+---------+---------+-------+------+----+----------+----+-------+------------+----------+----------+--------+------------------+----------+-----------------+-------+------------------+------------+--------+--------+---------------+-------------+\n",
            "|id                                  |andar|area_util|banheiros|quartos|suites|vaga|condominio|iptu|valor  |Zona Central|Zona Norte|Zona Oeste|Zona Sul|Condomínio fechado|Playground|Portão eletrônico|Piscina|Animais permitidos|Portaria 24h|Elevador|Academia|Salão de festas|Churrasqueira|\n",
            "+------------------------------------+-----+---------+---------+-------+------+----+----------+----+-------+------------+----------+----------+--------+------------------+----------+-----------------+-------+------------------+------------+--------+--------+---------------+-------------+\n",
            "|4e47e4d4-3326-4eb5-ab19-7ea68e1e2912|0    |90       |2        |3      |1     |0   |950       |2677|949020 |0           |0         |0         |1       |0                 |0         |0                |0      |0                 |0           |1       |0       |0              |0            |\n",
            "|02fba6ef-a691-442a-997f-211944057adf|3    |64       |1        |2      |2     |1   |784       |80  |380000 |0           |0         |1         |0       |1                 |1         |1                |1      |1                 |1           |1       |1       |1              |1            |\n",
            "|fc03c1a9-8bbb-41a6-bd4d-43950b77dd60|0    |82       |2        |3      |1     |1   |1515      |133 |580000 |0           |1         |0         |0       |1                 |0         |0                |1      |0                 |0           |1       |0       |0              |1            |\n",
            "|3dd5d200-0a7f-43db-ba7c-c26a25189674|0    |170      |3        |4      |1     |1   |2250      |3000|1450000|0           |0         |0         |1       |0                 |0         |0                |0      |0                 |0           |1       |0       |0              |0            |\n",
            "|82707939-71bd-40c6-896c-6944e9848ccb|0    |525      |4        |4      |2     |2   |5000      |2100|5199000|0           |0         |0         |1       |0                 |0         |0                |0      |0                 |0           |0       |0       |0              |0            |\n",
            "+------------------------------------+-----+---------+---------+-------+------+----+----------+----+-------+------------+----------+----------+--------+------------------+----------+-----------------+-------+------------------+------------+--------+--------+---------------+-------------+\n",
            "only showing top 5 rows\n",
            "\n"
          ]
        }
      ],
      "source": [
        "df_final = df_join.drop('caracteristicas','bairro','zona')\n",
        "df_final.show(5, truncate=False)"
      ]
    },
    {
      "cell_type": "markdown",
      "metadata": {
        "id": "QNCEoa5pRSFS"
      },
      "source": [
        "# Vetorização dos dados"
      ]
    },
    {
      "cell_type": "code",
      "execution_count": null,
      "metadata": {
        "colab": {
          "base_uri": "https://localhost:8080/"
        },
        "id": "Nh79-Jt2RULr",
        "outputId": "d5cea3b4-7f12-4cb1-f2ed-11a57efd4cd4"
      },
      "outputs": [
        {
          "name": "stdout",
          "output_type": "stream",
          "text": [
            "+------------------------------------+-----+---------+---------+-------+------+----+----------+----+-------+------------+----------+----------+--------+------------------+----------+-----------------+-------+------------------+------------+--------+--------+---------------+-------------+---------------------------------------------------------------------------------------------+\n",
            "|id                                  |andar|area_util|banheiros|quartos|suites|vaga|condominio|iptu|valor  |Zona Central|Zona Norte|Zona Oeste|Zona Sul|Condomínio fechado|Playground|Portão eletrônico|Piscina|Animais permitidos|Portaria 24h|Elevador|Academia|Salão de festas|Churrasqueira|features                                                                                     |\n",
            "+------------------------------------+-----+---------+---------+-------+------+----+----------+----+-------+------------+----------+----------+--------+------------------+----------+-----------------+-------+------------------+------------+--------+--------+---------------+-------------+---------------------------------------------------------------------------------------------+\n",
            "|4e47e4d4-3326-4eb5-ab19-7ea68e1e2912|0    |90       |2        |3      |1     |0   |950       |2677|949020 |0           |0         |0         |1       |0                 |0         |0                |0      |0                 |0           |1       |0       |0              |0            |(22,[1,2,3,4,6,7,11,18],[90.0,2.0,3.0,1.0,950.0,2677.0,1.0,1.0])                             |\n",
            "|02fba6ef-a691-442a-997f-211944057adf|3    |64       |1        |2      |2     |1   |784       |80  |380000 |0           |0         |1         |0       |1                 |1         |1                |1      |1                 |1           |1       |1       |1              |1            |[3.0,64.0,1.0,2.0,2.0,1.0,784.0,80.0,0.0,0.0,1.0,0.0,1.0,1.0,1.0,1.0,1.0,1.0,1.0,1.0,1.0,1.0]|\n",
            "|fc03c1a9-8bbb-41a6-bd4d-43950b77dd60|0    |82       |2        |3      |1     |1   |1515      |133 |580000 |0           |1         |0         |0       |1                 |0         |0                |1      |0                 |0           |1       |0       |0              |1            |(22,[1,2,3,4,5,6,7,9,12,15,18,21],[82.0,2.0,3.0,1.0,1.0,1515.0,133.0,1.0,1.0,1.0,1.0,1.0])   |\n",
            "|3dd5d200-0a7f-43db-ba7c-c26a25189674|0    |170      |3        |4      |1     |1   |2250      |3000|1450000|0           |0         |0         |1       |0                 |0         |0                |0      |0                 |0           |1       |0       |0              |0            |(22,[1,2,3,4,5,6,7,11,18],[170.0,3.0,4.0,1.0,1.0,2250.0,3000.0,1.0,1.0])                     |\n",
            "|82707939-71bd-40c6-896c-6944e9848ccb|0    |525      |4        |4      |2     |2   |5000      |2100|5199000|0           |0         |0         |1       |0                 |0         |0                |0      |0                 |0           |0       |0       |0              |0            |(22,[1,2,3,4,5,6,7,11],[525.0,4.0,4.0,2.0,2.0,5000.0,2100.0,1.0])                            |\n",
            "+------------------------------------+-----+---------+---------+-------+------+----+----------+----+-------+------------+----------+----------+--------+------------------+----------+-----------------+-------+------------------+------------+--------+--------+---------------+-------------+---------------------------------------------------------------------------------------------+\n",
            "only showing top 5 rows\n",
            "\n"
          ]
        }
      ],
      "source": [
        "from pyspark.ml.feature import VectorAssembler\n",
        "\n",
        "x = ['andar',\n",
        "    'area_util',\n",
        "    'banheiros',\n",
        "    'quartos',\n",
        "    'suites',\n",
        "    'vaga',\n",
        "    'condominio',\n",
        "    'iptu',\n",
        "    'Zona Central',\n",
        "    'Zona Norte',\n",
        "    'Zona Oeste',\n",
        "    'Zona Sul',\n",
        "    'Condomínio fechado',\n",
        "    'Playground',\n",
        "    'Portão eletrônico',\n",
        "    'Piscina',\n",
        "    'Animais permitidos',\n",
        "    'Portaria 24h',\n",
        "    'Elevador',\n",
        "    'Academia',\n",
        "    'Salão de festas',\n",
        "    'Churrasqueira']\n",
        "\n",
        "vect_features = VectorAssembler(inputCols = x, outputCol = 'features')\n",
        "imoves_vect = vect_features.transform(df_final)\n",
        "\n",
        "imoves_vect.show(5, truncate=False)\n",
        "\n"
      ]
    },
    {
      "cell_type": "markdown",
      "metadata": {
        "id": "9gU3RrDOh5WJ"
      },
      "source": [
        "# Correlação dos Dados"
      ]
    },
    {
      "cell_type": "code",
      "execution_count": null,
      "metadata": {
        "colab": {
          "base_uri": "https://localhost:8080/",
          "height": 705
        },
        "id": "8xnELZmYh8QP",
        "outputId": "052444ac-130c-448a-b5a2-11d76bd8f9bf"
      },
      "outputs": [
        {
          "data": {
            "text/plain": [
              "<matplotlib.axes._subplots.AxesSubplot at 0x7f93568454c0>"
            ]
          },
          "execution_count": 88,
          "metadata": {},
          "output_type": "execute_result"
        },
        {
          "data": {
            "image/png": "[encoded data removed]",
            "text/plain": [
              "<Figure size 864x720 with 2 Axes>"
            ]
          },
          "metadata": {
            "needs_background": "light"
          },
          "output_type": "display_data"
        }
      ],
      "source": [
        "from pyspark.ml.stat import Correlation\n",
        "import pandas as pd\n",
        "import matplotlib.pyplot as plt\n",
        "import seaborn as sns\n",
        "\n",
        "\n",
        "correlacao = Correlation.corr(imoves_vect, 'features').collect()[0][0]\n",
        "\n",
        "correlacao.toArray()\n",
        "dataframe_correlacao = pd.DataFrame(correlacao.toArray(), columns=x, index=x)\n",
        "\n",
        "plt.figure(figsize=(12,10))\n",
        "paleta = sns.color_palette(\"light:salmon\", as_cmap=True)\n",
        "sns.heatmap(dataframe_correlacao.round(1), annot=True, cmap=paleta)\n"
      ]
    },
    {
      "cell_type": "markdown",
      "metadata": {
        "id": "cocPnUU5CoQs"
      },
      "source": [
        "# Separados dados de treino e teste"
      ]
    },
    {
      "cell_type": "code",
      "execution_count": null,
      "metadata": {
        "colab": {
          "base_uri": "https://localhost:8080/"
        },
        "id": "pe2A5BWlCrvt",
        "outputId": "7d86f86a-c188-4e2a-8a87-6ec2034e0664"
      },
      "outputs": [
        {
          "name": "stdout",
          "output_type": "stream",
          "text": [
            "46537\n",
            "20014\n"
          ]
        }
      ],
      "source": [
        "imoveis_treino, imoveis_teste = imoves_vect.randomSplit([0.7,0.3])\n",
        "print(imoveis_treino.count())\n",
        "print(imoveis_teste.count())"
      ]
    },
    {
      "cell_type": "markdown",
      "metadata": {
        "id": "z2s4mw3gDFg0"
      },
      "source": [
        "# Criando modelo de Regressão Linear\n",
        "\n"
      ]
    },
    {
      "cell_type": "code",
      "execution_count": null,
      "metadata": {
        "id": "9lUUQ1OUDLW4"
      },
      "outputs": [],
      "source": [
        "from pyspark.ml.regression import LinearRegression, RandomForestRegressor\n",
        "from pyspark.ml.evaluation import RegressionEvaluator\n",
        "\n",
        "lr = LinearRegression(featuresCol='features', labelCol='valor')\n",
        "modelo_lr = lr.fit(imoveis_treino)\n",
        "\n",
        "previsao_lr = modelo_lr.transform(imoveis_teste)\n",
        "\n"
      ]
    },
    {
      "cell_type": "markdown",
      "metadata": {
        "id": "6wFqQFmwmSh0"
      },
      "source": [
        "# Testando modelo de Regressão Linear"
      ]
    },
    {
      "cell_type": "code",
      "execution_count": null,
      "metadata": {
        "colab": {
          "base_uri": "https://localhost:8080/"
        },
        "id": "4xWfwPM4mXIT",
        "outputId": "6e9e6fd2-4894-4771-9c1a-8050093f8e08"
      },
      "outputs": [
        {
          "name": "stdout",
          "output_type": "stream",
          "text": [
            "+-------+---------+\n",
            "|  valor|  palpite|\n",
            "+-------+---------+\n",
            "|1100000|1370246.0|\n",
            "| 593036| 158335.0|\n",
            "| 890000| 694136.0|\n",
            "|1500000|1780569.0|\n",
            "| 800000| 922554.0|\n",
            "+-------+---------+\n",
            "only showing top 5 rows\n",
            "\n"
          ]
        }
      ],
      "source": [
        "avaliar_lr_rmse = RegressionEvaluator(predictionCol='prediction',labelCol='valor',metricName='rmse')\n",
        "avaliar_lr_r2 = RegressionEvaluator(predictionCol='prediction',labelCol='valor',metricName='r2')\n",
        "rmse_lr = avaliar_lr_rmse.evaluate(previsao_lr)\n",
        "r2_lr = avaliar_lr_r2.evaluate(previsao_lr)\n",
        "\n",
        "previsao_lr.select('valor',f.round('prediction',0).alias('palpite')).show(5)\n"
      ]
    },
    {
      "cell_type": "markdown",
      "metadata": {
        "id": "rZlvPDA8FwzE"
      },
      "source": [
        "# Criando modelo de RandomForestRegressor\n",
        "\n"
      ]
    },
    {
      "cell_type": "code",
      "execution_count": null,
      "metadata": {
        "id": "_Rng55HXFyzQ"
      },
      "outputs": [],
      "source": [
        "rft = RandomForestRegressor(featuresCol='features', labelCol='valor',seed=101, maxDepth=7,numTrees=10)\n",
        "modelo_rft = rft.fit(imoveis_treino)\n",
        "\n",
        "previsao_rft = modelo_rft.transform(imoveis_teste)\n",
        "\n"
      ]
    },
    {
      "cell_type": "markdown",
      "metadata": {
        "id": "pdmq5cC8nf3o"
      },
      "source": [
        "# Testando o modelo de RandomForestRegressor"
      ]
    },
    {
      "cell_type": "code",
      "execution_count": null,
      "metadata": {
        "colab": {
          "base_uri": "https://localhost:8080/"
        },
        "id": "112UTp5UnjcN",
        "outputId": "a90f4a55-400e-4263-aa7d-50bc285cdd5b"
      },
      "outputs": [
        {
          "name": "stdout",
          "output_type": "stream",
          "text": [
            "+-------+---------+\n",
            "|  valor|  palpite|\n",
            "+-------+---------+\n",
            "|1100000|1341785.0|\n",
            "| 593036| 341824.0|\n",
            "| 890000| 773142.0|\n",
            "|1500000|2003307.0|\n",
            "| 800000| 697896.0|\n",
            "+-------+---------+\n",
            "only showing top 5 rows\n",
            "\n"
          ]
        }
      ],
      "source": [
        "avaliar_rft_rmse = RegressionEvaluator(predictionCol='prediction',labelCol='valor',metricName='rmse')\n",
        "avaliar_rft_r2 = RegressionEvaluator(predictionCol='prediction',labelCol='valor',metricName='r2')\n",
        "rmse_rft = avaliar_rft_rmse.evaluate(previsao_rft)\n",
        "r2_rft = avaliar_rft_r2.evaluate(previsao_rft)\n",
        "\n",
        "previsao_rft.select('valor',f.round('prediction',0).alias('palpite')).show(5)\n",
        "\n",
        "\n"
      ]
    },
    {
      "cell_type": "markdown",
      "metadata": {
        "id": "camn9I7BEw_M"
      },
      "source": [
        "# Avaliando melhor modelo"
      ]
    },
    {
      "cell_type": "code",
      "execution_count": null,
      "metadata": {
        "colab": {
          "base_uri": "https://localhost:8080/"
        },
        "id": "lE7O0Vi5E1dm",
        "outputId": "d070a0b0-533b-43aa-b55c-4acf12c9d7b8"
      },
      "outputs": [
        {
          "name": "stdout",
          "output_type": "stream",
          "text": [
            "Linear Regression\n",
            "==============================\n",
            "Avaliação RMSE: 847540.00\n",
            "Avaliação R²:   0.67\n",
            "\n",
            "Random Forest Regression\n",
            "==============================\n",
            "Avaliação RMSE: 656001.69\n",
            "Avaliação R²:   0.80\n"
          ]
        }
      ],
      "source": [
        "print('Linear Regression')\n",
        "print(\"=\"*30)\n",
        "print('Avaliação RMSE: %.2f' % rmse_lr)\n",
        "print('Avaliação R²:   %.2f' % r2_lr)\n",
        "print ('')\n",
        "print('Random Forest Regression')\n",
        "print(\"=\"*30)\n",
        "print('Avaliação RMSE: %.2f' % rmse_rft)\n",
        "print('Avaliação R²:   %.2f' % r2_rft)"
      ]
    },
    {
      "cell_type": "markdown",
      "metadata": {
        "id": "Xu0TTMKKIG7Y"
      },
      "source": [
        "# Salvando arquivo Parquet"
      ]
    },
    {
      "cell_type": "code",
      "execution_count": null,
      "metadata": {
        "id": "Nl1FZutKIJ5z"
      },
      "outputs": [],
      "source": [
        "df_final.write.format('parquet').save('df_imoveis_parquet')"
      ]
    },
    {
      "cell_type": "markdown",
      "metadata": {
        "id": "jO5YMmMkkKQx"
      },
      "source": []
    }
  ],
  "metadata": {
    "colab": {
      "authorship_tag": "ABX9TyPVOhuv3RiPOdbs02tyVete",
      "include_colab_link": true,
      "provenance": []
    },
    "kernelspec": {
      "display_name": "Python 3.10.6 64-bit",
      "language": "python",
      "name": "python3"
    },
    "language_info": {
      "codemirror_mode": {
        "name": "ipython",
        "version": 3
      },
      "file_extension": ".py",
      "mimetype": "text/x-python",
      "name": "python",
      "nbconvert_exporter": "python",
      "pygments_lexer": "ipython3",
      "version": "3.10.6"
    },
    "vscode": {
      "interpreter": {
        "hash": "916dbcbb3f70747c44a77c7bcd40155683ae19c65e1c03b4aa3499c5328201f1"
      }
    }
  },
  "nbformat": 4,
  "nbformat_minor": 0
}
